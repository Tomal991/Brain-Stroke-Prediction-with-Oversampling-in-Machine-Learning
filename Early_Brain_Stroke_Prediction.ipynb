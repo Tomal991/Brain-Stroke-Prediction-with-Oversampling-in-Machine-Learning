{
  "nbformat": 4,
  "nbformat_minor": 0,
  "metadata": {
    "colab": {
      "name": "Early Brain Stroke Prediction.ipynb",
      "provenance": [],
      "collapsed_sections": [
        "60lSI5xWFKOM"
      ]
    },
    "kernelspec": {
      "name": "python3",
      "display_name": "Python 3"
    },
    "language_info": {
      "name": "python"
    }
  },
  "cells": [
    {
      "cell_type": "code",
      "execution_count": 1,
      "metadata": {
        "id": "DQhRT1oZHBFF"
      },
      "outputs": [],
      "source": [
        "import pandas as pd\n",
        "import numpy as np\n",
        "import matplotlib.pyplot as plt\n",
        "import seaborn as sn\n",
        "\n",
        "from sklearn.model_selection import train_test_split\n",
        "from sklearn.impute import KNNImputer\n",
        "from sklearn.preprocessing import StandardScaler\n",
        "from sklearn.preprocessing import LabelEncoder\n",
        "\n",
        "from sklearn.linear_model import LogisticRegression\n",
        "from sklearn.neighbors import KNeighborsClassifier\n",
        "from sklearn.tree import DecisionTreeClassifier\n",
        "from sklearn.svm import LinearSVC,SVC\n",
        "from sklearn.ensemble import RandomForestClassifier\n",
        "from sklearn.neural_network import MLPClassifier\n",
        "from sklearn.metrics import accuracy_score,f1_score,precision_score,recall_score"
      ]
    },
    {
      "cell_type": "code",
      "source": [
        "data=pd.read_csv(\"healthcare-dataset-stroke-data.csv\")"
      ],
      "metadata": {
        "id": "1Vys6FGrHPVx"
      },
      "execution_count": 2,
      "outputs": []
    },
    {
      "cell_type": "code",
      "source": [
        "data"
      ],
      "metadata": {
        "colab": {
          "base_uri": "https://localhost:8080/",
          "height": 424
        },
        "id": "kJPXJJCsHSfg",
        "outputId": "5dbaaeb2-6b31-4470-e429-3a40f4ead336"
      },
      "execution_count": 3,
      "outputs": [
        {
          "output_type": "execute_result",
          "data": {
            "text/plain": [
              "         id  gender   age  hypertension  heart_disease ever_married  \\\n",
              "0      9046    Male  67.0             0              1          Yes   \n",
              "1     51676  Female  61.0             0              0          Yes   \n",
              "2     31112    Male  80.0             0              1          Yes   \n",
              "3     60182  Female  49.0             0              0          Yes   \n",
              "4      1665  Female  79.0             1              0          Yes   \n",
              "...     ...     ...   ...           ...            ...          ...   \n",
              "5105  18234  Female  80.0             1              0          Yes   \n",
              "5106  44873  Female  81.0             0              0          Yes   \n",
              "5107  19723  Female  35.0             0              0          Yes   \n",
              "5108  37544    Male  51.0             0              0          Yes   \n",
              "5109  44679  Female  44.0             0              0          Yes   \n",
              "\n",
              "          work_type Residence_type  avg_glucose_level   bmi   smoking_status  \\\n",
              "0           Private          Urban             228.69  36.6  formerly smoked   \n",
              "1     Self-employed          Rural             202.21   NaN     never smoked   \n",
              "2           Private          Rural             105.92  32.5     never smoked   \n",
              "3           Private          Urban             171.23  34.4           smokes   \n",
              "4     Self-employed          Rural             174.12  24.0     never smoked   \n",
              "...             ...            ...                ...   ...              ...   \n",
              "5105        Private          Urban              83.75   NaN     never smoked   \n",
              "5106  Self-employed          Urban             125.20  40.0     never smoked   \n",
              "5107  Self-employed          Rural              82.99  30.6     never smoked   \n",
              "5108        Private          Rural             166.29  25.6  formerly smoked   \n",
              "5109       Govt_job          Urban              85.28  26.2          Unknown   \n",
              "\n",
              "      stroke  \n",
              "0          1  \n",
              "1          1  \n",
              "2          1  \n",
              "3          1  \n",
              "4          1  \n",
              "...      ...  \n",
              "5105       0  \n",
              "5106       0  \n",
              "5107       0  \n",
              "5108       0  \n",
              "5109       0  \n",
              "\n",
              "[5110 rows x 12 columns]"
            ],
            "text/html": [
              "\n",
              "  <div id=\"df-67428f73-c603-4454-992d-9186588acaae\">\n",
              "    <div class=\"colab-df-container\">\n",
              "      <div>\n",
              "<style scoped>\n",
              "    .dataframe tbody tr th:only-of-type {\n",
              "        vertical-align: middle;\n",
              "    }\n",
              "\n",
              "    .dataframe tbody tr th {\n",
              "        vertical-align: top;\n",
              "    }\n",
              "\n",
              "    .dataframe thead th {\n",
              "        text-align: right;\n",
              "    }\n",
              "</style>\n",
              "<table border=\"1\" class=\"dataframe\">\n",
              "  <thead>\n",
              "    <tr style=\"text-align: right;\">\n",
              "      <th></th>\n",
              "      <th>id</th>\n",
              "      <th>gender</th>\n",
              "      <th>age</th>\n",
              "      <th>hypertension</th>\n",
              "      <th>heart_disease</th>\n",
              "      <th>ever_married</th>\n",
              "      <th>work_type</th>\n",
              "      <th>Residence_type</th>\n",
              "      <th>avg_glucose_level</th>\n",
              "      <th>bmi</th>\n",
              "      <th>smoking_status</th>\n",
              "      <th>stroke</th>\n",
              "    </tr>\n",
              "  </thead>\n",
              "  <tbody>\n",
              "    <tr>\n",
              "      <th>0</th>\n",
              "      <td>9046</td>\n",
              "      <td>Male</td>\n",
              "      <td>67.0</td>\n",
              "      <td>0</td>\n",
              "      <td>1</td>\n",
              "      <td>Yes</td>\n",
              "      <td>Private</td>\n",
              "      <td>Urban</td>\n",
              "      <td>228.69</td>\n",
              "      <td>36.6</td>\n",
              "      <td>formerly smoked</td>\n",
              "      <td>1</td>\n",
              "    </tr>\n",
              "    <tr>\n",
              "      <th>1</th>\n",
              "      <td>51676</td>\n",
              "      <td>Female</td>\n",
              "      <td>61.0</td>\n",
              "      <td>0</td>\n",
              "      <td>0</td>\n",
              "      <td>Yes</td>\n",
              "      <td>Self-employed</td>\n",
              "      <td>Rural</td>\n",
              "      <td>202.21</td>\n",
              "      <td>NaN</td>\n",
              "      <td>never smoked</td>\n",
              "      <td>1</td>\n",
              "    </tr>\n",
              "    <tr>\n",
              "      <th>2</th>\n",
              "      <td>31112</td>\n",
              "      <td>Male</td>\n",
              "      <td>80.0</td>\n",
              "      <td>0</td>\n",
              "      <td>1</td>\n",
              "      <td>Yes</td>\n",
              "      <td>Private</td>\n",
              "      <td>Rural</td>\n",
              "      <td>105.92</td>\n",
              "      <td>32.5</td>\n",
              "      <td>never smoked</td>\n",
              "      <td>1</td>\n",
              "    </tr>\n",
              "    <tr>\n",
              "      <th>3</th>\n",
              "      <td>60182</td>\n",
              "      <td>Female</td>\n",
              "      <td>49.0</td>\n",
              "      <td>0</td>\n",
              "      <td>0</td>\n",
              "      <td>Yes</td>\n",
              "      <td>Private</td>\n",
              "      <td>Urban</td>\n",
              "      <td>171.23</td>\n",
              "      <td>34.4</td>\n",
              "      <td>smokes</td>\n",
              "      <td>1</td>\n",
              "    </tr>\n",
              "    <tr>\n",
              "      <th>4</th>\n",
              "      <td>1665</td>\n",
              "      <td>Female</td>\n",
              "      <td>79.0</td>\n",
              "      <td>1</td>\n",
              "      <td>0</td>\n",
              "      <td>Yes</td>\n",
              "      <td>Self-employed</td>\n",
              "      <td>Rural</td>\n",
              "      <td>174.12</td>\n",
              "      <td>24.0</td>\n",
              "      <td>never smoked</td>\n",
              "      <td>1</td>\n",
              "    </tr>\n",
              "    <tr>\n",
              "      <th>...</th>\n",
              "      <td>...</td>\n",
              "      <td>...</td>\n",
              "      <td>...</td>\n",
              "      <td>...</td>\n",
              "      <td>...</td>\n",
              "      <td>...</td>\n",
              "      <td>...</td>\n",
              "      <td>...</td>\n",
              "      <td>...</td>\n",
              "      <td>...</td>\n",
              "      <td>...</td>\n",
              "      <td>...</td>\n",
              "    </tr>\n",
              "    <tr>\n",
              "      <th>5105</th>\n",
              "      <td>18234</td>\n",
              "      <td>Female</td>\n",
              "      <td>80.0</td>\n",
              "      <td>1</td>\n",
              "      <td>0</td>\n",
              "      <td>Yes</td>\n",
              "      <td>Private</td>\n",
              "      <td>Urban</td>\n",
              "      <td>83.75</td>\n",
              "      <td>NaN</td>\n",
              "      <td>never smoked</td>\n",
              "      <td>0</td>\n",
              "    </tr>\n",
              "    <tr>\n",
              "      <th>5106</th>\n",
              "      <td>44873</td>\n",
              "      <td>Female</td>\n",
              "      <td>81.0</td>\n",
              "      <td>0</td>\n",
              "      <td>0</td>\n",
              "      <td>Yes</td>\n",
              "      <td>Self-employed</td>\n",
              "      <td>Urban</td>\n",
              "      <td>125.20</td>\n",
              "      <td>40.0</td>\n",
              "      <td>never smoked</td>\n",
              "      <td>0</td>\n",
              "    </tr>\n",
              "    <tr>\n",
              "      <th>5107</th>\n",
              "      <td>19723</td>\n",
              "      <td>Female</td>\n",
              "      <td>35.0</td>\n",
              "      <td>0</td>\n",
              "      <td>0</td>\n",
              "      <td>Yes</td>\n",
              "      <td>Self-employed</td>\n",
              "      <td>Rural</td>\n",
              "      <td>82.99</td>\n",
              "      <td>30.6</td>\n",
              "      <td>never smoked</td>\n",
              "      <td>0</td>\n",
              "    </tr>\n",
              "    <tr>\n",
              "      <th>5108</th>\n",
              "      <td>37544</td>\n",
              "      <td>Male</td>\n",
              "      <td>51.0</td>\n",
              "      <td>0</td>\n",
              "      <td>0</td>\n",
              "      <td>Yes</td>\n",
              "      <td>Private</td>\n",
              "      <td>Rural</td>\n",
              "      <td>166.29</td>\n",
              "      <td>25.6</td>\n",
              "      <td>formerly smoked</td>\n",
              "      <td>0</td>\n",
              "    </tr>\n",
              "    <tr>\n",
              "      <th>5109</th>\n",
              "      <td>44679</td>\n",
              "      <td>Female</td>\n",
              "      <td>44.0</td>\n",
              "      <td>0</td>\n",
              "      <td>0</td>\n",
              "      <td>Yes</td>\n",
              "      <td>Govt_job</td>\n",
              "      <td>Urban</td>\n",
              "      <td>85.28</td>\n",
              "      <td>26.2</td>\n",
              "      <td>Unknown</td>\n",
              "      <td>0</td>\n",
              "    </tr>\n",
              "  </tbody>\n",
              "</table>\n",
              "<p>5110 rows × 12 columns</p>\n",
              "</div>\n",
              "      <button class=\"colab-df-convert\" onclick=\"convertToInteractive('df-67428f73-c603-4454-992d-9186588acaae')\"\n",
              "              title=\"Convert this dataframe to an interactive table.\"\n",
              "              style=\"display:none;\">\n",
              "        \n",
              "  <svg xmlns=\"http://www.w3.org/2000/svg\" height=\"24px\"viewBox=\"0 0 24 24\"\n",
              "       width=\"24px\">\n",
              "    <path d=\"M0 0h24v24H0V0z\" fill=\"none\"/>\n",
              "    <path d=\"M18.56 5.44l.94 2.06.94-2.06 2.06-.94-2.06-.94-.94-2.06-.94 2.06-2.06.94zm-11 1L8.5 8.5l.94-2.06 2.06-.94-2.06-.94L8.5 2.5l-.94 2.06-2.06.94zm10 10l.94 2.06.94-2.06 2.06-.94-2.06-.94-.94-2.06-.94 2.06-2.06.94z\"/><path d=\"M17.41 7.96l-1.37-1.37c-.4-.4-.92-.59-1.43-.59-.52 0-1.04.2-1.43.59L10.3 9.45l-7.72 7.72c-.78.78-.78 2.05 0 2.83L4 21.41c.39.39.9.59 1.41.59.51 0 1.02-.2 1.41-.59l7.78-7.78 2.81-2.81c.8-.78.8-2.07 0-2.86zM5.41 20L4 18.59l7.72-7.72 1.47 1.35L5.41 20z\"/>\n",
              "  </svg>\n",
              "      </button>\n",
              "      \n",
              "  <style>\n",
              "    .colab-df-container {\n",
              "      display:flex;\n",
              "      flex-wrap:wrap;\n",
              "      gap: 12px;\n",
              "    }\n",
              "\n",
              "    .colab-df-convert {\n",
              "      background-color: #E8F0FE;\n",
              "      border: none;\n",
              "      border-radius: 50%;\n",
              "      cursor: pointer;\n",
              "      display: none;\n",
              "      fill: #1967D2;\n",
              "      height: 32px;\n",
              "      padding: 0 0 0 0;\n",
              "      width: 32px;\n",
              "    }\n",
              "\n",
              "    .colab-df-convert:hover {\n",
              "      background-color: #E2EBFA;\n",
              "      box-shadow: 0px 1px 2px rgba(60, 64, 67, 0.3), 0px 1px 3px 1px rgba(60, 64, 67, 0.15);\n",
              "      fill: #174EA6;\n",
              "    }\n",
              "\n",
              "    [theme=dark] .colab-df-convert {\n",
              "      background-color: #3B4455;\n",
              "      fill: #D2E3FC;\n",
              "    }\n",
              "\n",
              "    [theme=dark] .colab-df-convert:hover {\n",
              "      background-color: #434B5C;\n",
              "      box-shadow: 0px 1px 3px 1px rgba(0, 0, 0, 0.15);\n",
              "      filter: drop-shadow(0px 1px 2px rgba(0, 0, 0, 0.3));\n",
              "      fill: #FFFFFF;\n",
              "    }\n",
              "  </style>\n",
              "\n",
              "      <script>\n",
              "        const buttonEl =\n",
              "          document.querySelector('#df-67428f73-c603-4454-992d-9186588acaae button.colab-df-convert');\n",
              "        buttonEl.style.display =\n",
              "          google.colab.kernel.accessAllowed ? 'block' : 'none';\n",
              "\n",
              "        async function convertToInteractive(key) {\n",
              "          const element = document.querySelector('#df-67428f73-c603-4454-992d-9186588acaae');\n",
              "          const dataTable =\n",
              "            await google.colab.kernel.invokeFunction('convertToInteractive',\n",
              "                                                     [key], {});\n",
              "          if (!dataTable) return;\n",
              "\n",
              "          const docLinkHtml = 'Like what you see? Visit the ' +\n",
              "            '<a target=\"_blank\" href=https://colab.research.google.com/notebooks/data_table.ipynb>data table notebook</a>'\n",
              "            + ' to learn more about interactive tables.';\n",
              "          element.innerHTML = '';\n",
              "          dataTable['output_type'] = 'display_data';\n",
              "          await google.colab.output.renderOutput(dataTable, element);\n",
              "          const docLink = document.createElement('div');\n",
              "          docLink.innerHTML = docLinkHtml;\n",
              "          element.appendChild(docLink);\n",
              "        }\n",
              "      </script>\n",
              "    </div>\n",
              "  </div>\n",
              "  "
            ]
          },
          "metadata": {},
          "execution_count": 3
        }
      ]
    },
    {
      "cell_type": "code",
      "source": [
        "data.info()"
      ],
      "metadata": {
        "colab": {
          "base_uri": "https://localhost:8080/"
        },
        "id": "pRMpDb1zHSno",
        "outputId": "4c22e050-195b-455b-9336-78cf6f2bd513"
      },
      "execution_count": 4,
      "outputs": [
        {
          "output_type": "stream",
          "name": "stdout",
          "text": [
            "<class 'pandas.core.frame.DataFrame'>\n",
            "RangeIndex: 5110 entries, 0 to 5109\n",
            "Data columns (total 12 columns):\n",
            " #   Column             Non-Null Count  Dtype  \n",
            "---  ------             --------------  -----  \n",
            " 0   id                 5110 non-null   int64  \n",
            " 1   gender             5110 non-null   object \n",
            " 2   age                5110 non-null   float64\n",
            " 3   hypertension       5110 non-null   int64  \n",
            " 4   heart_disease      5110 non-null   int64  \n",
            " 5   ever_married       5110 non-null   object \n",
            " 6   work_type          5110 non-null   object \n",
            " 7   Residence_type     5110 non-null   object \n",
            " 8   avg_glucose_level  5110 non-null   float64\n",
            " 9   bmi                4909 non-null   float64\n",
            " 10  smoking_status     5110 non-null   object \n",
            " 11  stroke             5110 non-null   int64  \n",
            "dtypes: float64(3), int64(4), object(5)\n",
            "memory usage: 479.2+ KB\n"
          ]
        }
      ]
    },
    {
      "cell_type": "code",
      "source": [
        "data.isnull().sum()\n"
      ],
      "metadata": {
        "colab": {
          "base_uri": "https://localhost:8080/"
        },
        "id": "-HgAiNHqI4Kf",
        "outputId": "f72ba06e-390f-487f-8ca9-f2bbd75ca61f"
      },
      "execution_count": 5,
      "outputs": [
        {
          "output_type": "execute_result",
          "data": {
            "text/plain": [
              "id                     0\n",
              "gender                 0\n",
              "age                    0\n",
              "hypertension           0\n",
              "heart_disease          0\n",
              "ever_married           0\n",
              "work_type              0\n",
              "Residence_type         0\n",
              "avg_glucose_level      0\n",
              "bmi                  201\n",
              "smoking_status         0\n",
              "stroke                 0\n",
              "dtype: int64"
            ]
          },
          "metadata": {},
          "execution_count": 5
        }
      ]
    },
    {
      "cell_type": "code",
      "source": [
        "data['bmi'].describe()"
      ],
      "metadata": {
        "colab": {
          "base_uri": "https://localhost:8080/"
        },
        "id": "QaS7hGhxI4Ql",
        "outputId": "fb1bf77f-28c8-4666-ef0c-c699b1a52cdd"
      },
      "execution_count": 6,
      "outputs": [
        {
          "output_type": "execute_result",
          "data": {
            "text/plain": [
              "count    4909.000000\n",
              "mean       28.893237\n",
              "std         7.854067\n",
              "min        10.300000\n",
              "25%        23.500000\n",
              "50%        28.100000\n",
              "75%        33.100000\n",
              "max        97.600000\n",
              "Name: bmi, dtype: float64"
            ]
          },
          "metadata": {},
          "execution_count": 6
        }
      ]
    },
    {
      "cell_type": "code",
      "source": [
        "data.isnull().sum()\n"
      ],
      "metadata": {
        "colab": {
          "base_uri": "https://localhost:8080/"
        },
        "id": "g0cAQeojMKfY",
        "outputId": "c0978644-3fac-493d-9a36-e3feec0d842c"
      },
      "execution_count": 7,
      "outputs": [
        {
          "output_type": "execute_result",
          "data": {
            "text/plain": [
              "id                     0\n",
              "gender                 0\n",
              "age                    0\n",
              "hypertension           0\n",
              "heart_disease          0\n",
              "ever_married           0\n",
              "work_type              0\n",
              "Residence_type         0\n",
              "avg_glucose_level      0\n",
              "bmi                  201\n",
              "smoking_status         0\n",
              "stroke                 0\n",
              "dtype: int64"
            ]
          },
          "metadata": {},
          "execution_count": 7
        }
      ]
    },
    {
      "cell_type": "code",
      "source": [
        "data.drop('id',axis=1,inplace=True)"
      ],
      "metadata": {
        "id": "yVa4UqmYMhYq"
      },
      "execution_count": 8,
      "outputs": []
    },
    {
      "cell_type": "code",
      "source": [
        "imputer=KNNImputer()\n",
        "data['bmi']=imputer.fit_transform(data[['bmi']])"
      ],
      "metadata": {
        "id": "DzxeLkGA5IYz"
      },
      "execution_count": 9,
      "outputs": []
    },
    {
      "cell_type": "code",
      "source": [
        "data"
      ],
      "metadata": {
        "colab": {
          "base_uri": "https://localhost:8080/",
          "height": 424
        },
        "id": "c8LcJLesMhcy",
        "outputId": "57f122f3-0c54-47a2-8802-13850b2694df"
      },
      "execution_count": 10,
      "outputs": [
        {
          "output_type": "execute_result",
          "data": {
            "text/plain": [
              "      gender   age  hypertension  heart_disease ever_married      work_type  \\\n",
              "0       Male  67.0             0              1          Yes        Private   \n",
              "1     Female  61.0             0              0          Yes  Self-employed   \n",
              "2       Male  80.0             0              1          Yes        Private   \n",
              "3     Female  49.0             0              0          Yes        Private   \n",
              "4     Female  79.0             1              0          Yes  Self-employed   \n",
              "...      ...   ...           ...            ...          ...            ...   \n",
              "5105  Female  80.0             1              0          Yes        Private   \n",
              "5106  Female  81.0             0              0          Yes  Self-employed   \n",
              "5107  Female  35.0             0              0          Yes  Self-employed   \n",
              "5108    Male  51.0             0              0          Yes        Private   \n",
              "5109  Female  44.0             0              0          Yes       Govt_job   \n",
              "\n",
              "     Residence_type  avg_glucose_level        bmi   smoking_status  stroke  \n",
              "0             Urban             228.69  36.600000  formerly smoked       1  \n",
              "1             Rural             202.21  28.893237     never smoked       1  \n",
              "2             Rural             105.92  32.500000     never smoked       1  \n",
              "3             Urban             171.23  34.400000           smokes       1  \n",
              "4             Rural             174.12  24.000000     never smoked       1  \n",
              "...             ...                ...        ...              ...     ...  \n",
              "5105          Urban              83.75  28.893237     never smoked       0  \n",
              "5106          Urban             125.20  40.000000     never smoked       0  \n",
              "5107          Rural              82.99  30.600000     never smoked       0  \n",
              "5108          Rural             166.29  25.600000  formerly smoked       0  \n",
              "5109          Urban              85.28  26.200000          Unknown       0  \n",
              "\n",
              "[5110 rows x 11 columns]"
            ],
            "text/html": [
              "\n",
              "  <div id=\"df-905dccf7-e561-4212-b6d0-13f579a5e824\">\n",
              "    <div class=\"colab-df-container\">\n",
              "      <div>\n",
              "<style scoped>\n",
              "    .dataframe tbody tr th:only-of-type {\n",
              "        vertical-align: middle;\n",
              "    }\n",
              "\n",
              "    .dataframe tbody tr th {\n",
              "        vertical-align: top;\n",
              "    }\n",
              "\n",
              "    .dataframe thead th {\n",
              "        text-align: right;\n",
              "    }\n",
              "</style>\n",
              "<table border=\"1\" class=\"dataframe\">\n",
              "  <thead>\n",
              "    <tr style=\"text-align: right;\">\n",
              "      <th></th>\n",
              "      <th>gender</th>\n",
              "      <th>age</th>\n",
              "      <th>hypertension</th>\n",
              "      <th>heart_disease</th>\n",
              "      <th>ever_married</th>\n",
              "      <th>work_type</th>\n",
              "      <th>Residence_type</th>\n",
              "      <th>avg_glucose_level</th>\n",
              "      <th>bmi</th>\n",
              "      <th>smoking_status</th>\n",
              "      <th>stroke</th>\n",
              "    </tr>\n",
              "  </thead>\n",
              "  <tbody>\n",
              "    <tr>\n",
              "      <th>0</th>\n",
              "      <td>Male</td>\n",
              "      <td>67.0</td>\n",
              "      <td>0</td>\n",
              "      <td>1</td>\n",
              "      <td>Yes</td>\n",
              "      <td>Private</td>\n",
              "      <td>Urban</td>\n",
              "      <td>228.69</td>\n",
              "      <td>36.600000</td>\n",
              "      <td>formerly smoked</td>\n",
              "      <td>1</td>\n",
              "    </tr>\n",
              "    <tr>\n",
              "      <th>1</th>\n",
              "      <td>Female</td>\n",
              "      <td>61.0</td>\n",
              "      <td>0</td>\n",
              "      <td>0</td>\n",
              "      <td>Yes</td>\n",
              "      <td>Self-employed</td>\n",
              "      <td>Rural</td>\n",
              "      <td>202.21</td>\n",
              "      <td>28.893237</td>\n",
              "      <td>never smoked</td>\n",
              "      <td>1</td>\n",
              "    </tr>\n",
              "    <tr>\n",
              "      <th>2</th>\n",
              "      <td>Male</td>\n",
              "      <td>80.0</td>\n",
              "      <td>0</td>\n",
              "      <td>1</td>\n",
              "      <td>Yes</td>\n",
              "      <td>Private</td>\n",
              "      <td>Rural</td>\n",
              "      <td>105.92</td>\n",
              "      <td>32.500000</td>\n",
              "      <td>never smoked</td>\n",
              "      <td>1</td>\n",
              "    </tr>\n",
              "    <tr>\n",
              "      <th>3</th>\n",
              "      <td>Female</td>\n",
              "      <td>49.0</td>\n",
              "      <td>0</td>\n",
              "      <td>0</td>\n",
              "      <td>Yes</td>\n",
              "      <td>Private</td>\n",
              "      <td>Urban</td>\n",
              "      <td>171.23</td>\n",
              "      <td>34.400000</td>\n",
              "      <td>smokes</td>\n",
              "      <td>1</td>\n",
              "    </tr>\n",
              "    <tr>\n",
              "      <th>4</th>\n",
              "      <td>Female</td>\n",
              "      <td>79.0</td>\n",
              "      <td>1</td>\n",
              "      <td>0</td>\n",
              "      <td>Yes</td>\n",
              "      <td>Self-employed</td>\n",
              "      <td>Rural</td>\n",
              "      <td>174.12</td>\n",
              "      <td>24.000000</td>\n",
              "      <td>never smoked</td>\n",
              "      <td>1</td>\n",
              "    </tr>\n",
              "    <tr>\n",
              "      <th>...</th>\n",
              "      <td>...</td>\n",
              "      <td>...</td>\n",
              "      <td>...</td>\n",
              "      <td>...</td>\n",
              "      <td>...</td>\n",
              "      <td>...</td>\n",
              "      <td>...</td>\n",
              "      <td>...</td>\n",
              "      <td>...</td>\n",
              "      <td>...</td>\n",
              "      <td>...</td>\n",
              "    </tr>\n",
              "    <tr>\n",
              "      <th>5105</th>\n",
              "      <td>Female</td>\n",
              "      <td>80.0</td>\n",
              "      <td>1</td>\n",
              "      <td>0</td>\n",
              "      <td>Yes</td>\n",
              "      <td>Private</td>\n",
              "      <td>Urban</td>\n",
              "      <td>83.75</td>\n",
              "      <td>28.893237</td>\n",
              "      <td>never smoked</td>\n",
              "      <td>0</td>\n",
              "    </tr>\n",
              "    <tr>\n",
              "      <th>5106</th>\n",
              "      <td>Female</td>\n",
              "      <td>81.0</td>\n",
              "      <td>0</td>\n",
              "      <td>0</td>\n",
              "      <td>Yes</td>\n",
              "      <td>Self-employed</td>\n",
              "      <td>Urban</td>\n",
              "      <td>125.20</td>\n",
              "      <td>40.000000</td>\n",
              "      <td>never smoked</td>\n",
              "      <td>0</td>\n",
              "    </tr>\n",
              "    <tr>\n",
              "      <th>5107</th>\n",
              "      <td>Female</td>\n",
              "      <td>35.0</td>\n",
              "      <td>0</td>\n",
              "      <td>0</td>\n",
              "      <td>Yes</td>\n",
              "      <td>Self-employed</td>\n",
              "      <td>Rural</td>\n",
              "      <td>82.99</td>\n",
              "      <td>30.600000</td>\n",
              "      <td>never smoked</td>\n",
              "      <td>0</td>\n",
              "    </tr>\n",
              "    <tr>\n",
              "      <th>5108</th>\n",
              "      <td>Male</td>\n",
              "      <td>51.0</td>\n",
              "      <td>0</td>\n",
              "      <td>0</td>\n",
              "      <td>Yes</td>\n",
              "      <td>Private</td>\n",
              "      <td>Rural</td>\n",
              "      <td>166.29</td>\n",
              "      <td>25.600000</td>\n",
              "      <td>formerly smoked</td>\n",
              "      <td>0</td>\n",
              "    </tr>\n",
              "    <tr>\n",
              "      <th>5109</th>\n",
              "      <td>Female</td>\n",
              "      <td>44.0</td>\n",
              "      <td>0</td>\n",
              "      <td>0</td>\n",
              "      <td>Yes</td>\n",
              "      <td>Govt_job</td>\n",
              "      <td>Urban</td>\n",
              "      <td>85.28</td>\n",
              "      <td>26.200000</td>\n",
              "      <td>Unknown</td>\n",
              "      <td>0</td>\n",
              "    </tr>\n",
              "  </tbody>\n",
              "</table>\n",
              "<p>5110 rows × 11 columns</p>\n",
              "</div>\n",
              "      <button class=\"colab-df-convert\" onclick=\"convertToInteractive('df-905dccf7-e561-4212-b6d0-13f579a5e824')\"\n",
              "              title=\"Convert this dataframe to an interactive table.\"\n",
              "              style=\"display:none;\">\n",
              "        \n",
              "  <svg xmlns=\"http://www.w3.org/2000/svg\" height=\"24px\"viewBox=\"0 0 24 24\"\n",
              "       width=\"24px\">\n",
              "    <path d=\"M0 0h24v24H0V0z\" fill=\"none\"/>\n",
              "    <path d=\"M18.56 5.44l.94 2.06.94-2.06 2.06-.94-2.06-.94-.94-2.06-.94 2.06-2.06.94zm-11 1L8.5 8.5l.94-2.06 2.06-.94-2.06-.94L8.5 2.5l-.94 2.06-2.06.94zm10 10l.94 2.06.94-2.06 2.06-.94-2.06-.94-.94-2.06-.94 2.06-2.06.94z\"/><path d=\"M17.41 7.96l-1.37-1.37c-.4-.4-.92-.59-1.43-.59-.52 0-1.04.2-1.43.59L10.3 9.45l-7.72 7.72c-.78.78-.78 2.05 0 2.83L4 21.41c.39.39.9.59 1.41.59.51 0 1.02-.2 1.41-.59l7.78-7.78 2.81-2.81c.8-.78.8-2.07 0-2.86zM5.41 20L4 18.59l7.72-7.72 1.47 1.35L5.41 20z\"/>\n",
              "  </svg>\n",
              "      </button>\n",
              "      \n",
              "  <style>\n",
              "    .colab-df-container {\n",
              "      display:flex;\n",
              "      flex-wrap:wrap;\n",
              "      gap: 12px;\n",
              "    }\n",
              "\n",
              "    .colab-df-convert {\n",
              "      background-color: #E8F0FE;\n",
              "      border: none;\n",
              "      border-radius: 50%;\n",
              "      cursor: pointer;\n",
              "      display: none;\n",
              "      fill: #1967D2;\n",
              "      height: 32px;\n",
              "      padding: 0 0 0 0;\n",
              "      width: 32px;\n",
              "    }\n",
              "\n",
              "    .colab-df-convert:hover {\n",
              "      background-color: #E2EBFA;\n",
              "      box-shadow: 0px 1px 2px rgba(60, 64, 67, 0.3), 0px 1px 3px 1px rgba(60, 64, 67, 0.15);\n",
              "      fill: #174EA6;\n",
              "    }\n",
              "\n",
              "    [theme=dark] .colab-df-convert {\n",
              "      background-color: #3B4455;\n",
              "      fill: #D2E3FC;\n",
              "    }\n",
              "\n",
              "    [theme=dark] .colab-df-convert:hover {\n",
              "      background-color: #434B5C;\n",
              "      box-shadow: 0px 1px 3px 1px rgba(0, 0, 0, 0.15);\n",
              "      filter: drop-shadow(0px 1px 2px rgba(0, 0, 0, 0.3));\n",
              "      fill: #FFFFFF;\n",
              "    }\n",
              "  </style>\n",
              "\n",
              "      <script>\n",
              "        const buttonEl =\n",
              "          document.querySelector('#df-905dccf7-e561-4212-b6d0-13f579a5e824 button.colab-df-convert');\n",
              "        buttonEl.style.display =\n",
              "          google.colab.kernel.accessAllowed ? 'block' : 'none';\n",
              "\n",
              "        async function convertToInteractive(key) {\n",
              "          const element = document.querySelector('#df-905dccf7-e561-4212-b6d0-13f579a5e824');\n",
              "          const dataTable =\n",
              "            await google.colab.kernel.invokeFunction('convertToInteractive',\n",
              "                                                     [key], {});\n",
              "          if (!dataTable) return;\n",
              "\n",
              "          const docLinkHtml = 'Like what you see? Visit the ' +\n",
              "            '<a target=\"_blank\" href=https://colab.research.google.com/notebooks/data_table.ipynb>data table notebook</a>'\n",
              "            + ' to learn more about interactive tables.';\n",
              "          element.innerHTML = '';\n",
              "          dataTable['output_type'] = 'display_data';\n",
              "          await google.colab.output.renderOutput(dataTable, element);\n",
              "          const docLink = document.createElement('div');\n",
              "          docLink.innerHTML = docLinkHtml;\n",
              "          element.appendChild(docLink);\n",
              "        }\n",
              "      </script>\n",
              "    </div>\n",
              "  </div>\n",
              "  "
            ]
          },
          "metadata": {},
          "execution_count": 10
        }
      ]
    },
    {
      "cell_type": "code",
      "source": [
        "#Relation between categorical columns and target column\n",
        "catgorical_features=['gender',\"ever_married\",\"Residence_type\",'work_type','smoking_status']\n",
        "\n",
        "fig,axes=plt.subplots(2,3,figsize=(20,10))\n",
        "axes=[ax for axes_row in axes for ax in axes_row]\n",
        "target='stroke'\n",
        "\n",
        "for i,c in enumerate(catgorical_features):\n",
        "  sn.barplot(data[c],data[target],ax=axes[i])\n",
        "  axes[i].set_ylabel('stroke',fontsize=14)\n",
        "  axes[i].set_xlabel(c,fontsize=14)\n",
        "\n",
        "plt.tight_layout()\n",
        "plt.show()"
      ],
      "metadata": {
        "colab": {
          "base_uri": "https://localhost:8080/",
          "height": 829
        },
        "id": "GTDym56gnhqM",
        "outputId": "dd93bc62-9688-42c2-8a54-a685cfe553eb"
      },
      "execution_count": 11,
      "outputs": [
        {
          "output_type": "stream",
          "name": "stderr",
          "text": [
            "/usr/local/lib/python3.7/dist-packages/seaborn/_decorators.py:43: FutureWarning: Pass the following variables as keyword args: x, y. From version 0.12, the only valid positional argument will be `data`, and passing other arguments without an explicit keyword will result in an error or misinterpretation.\n",
            "  FutureWarning\n",
            "/usr/local/lib/python3.7/dist-packages/seaborn/_decorators.py:43: FutureWarning: Pass the following variables as keyword args: x, y. From version 0.12, the only valid positional argument will be `data`, and passing other arguments without an explicit keyword will result in an error or misinterpretation.\n",
            "  FutureWarning\n",
            "/usr/local/lib/python3.7/dist-packages/seaborn/_decorators.py:43: FutureWarning: Pass the following variables as keyword args: x, y. From version 0.12, the only valid positional argument will be `data`, and passing other arguments without an explicit keyword will result in an error or misinterpretation.\n",
            "  FutureWarning\n",
            "/usr/local/lib/python3.7/dist-packages/seaborn/_decorators.py:43: FutureWarning: Pass the following variables as keyword args: x, y. From version 0.12, the only valid positional argument will be `data`, and passing other arguments without an explicit keyword will result in an error or misinterpretation.\n",
            "  FutureWarning\n",
            "/usr/local/lib/python3.7/dist-packages/seaborn/_decorators.py:43: FutureWarning: Pass the following variables as keyword args: x, y. From version 0.12, the only valid positional argument will be `data`, and passing other arguments without an explicit keyword will result in an error or misinterpretation.\n",
            "  FutureWarning\n"
          ]
        },
        {
          "output_type": "display_data",
          "data": {
            "text/plain": [
              "<Figure size 1440x720 with 6 Axes>"
            ],
            "image/png": "[encoded data removed]"
          },
          "metadata": {
            "needs_background": "light"
          }
        }
      ]
    },
    {
      "cell_type": "code",
      "source": [
        "enc=LabelEncoder()"
      ],
      "metadata": {
        "id": "3uSTPFD8MhhP"
      },
      "execution_count": 12,
      "outputs": []
    },
    {
      "cell_type": "code",
      "source": [
        "gender=enc.fit_transform(data['gender'])\n",
        "ever_married=enc.fit_transform(data['ever_married'])\n",
        "residence_type=enc.fit_transform(data['Residence_type'])"
      ],
      "metadata": {
        "id": "1IsmqD5mMhki"
      },
      "execution_count": 13,
      "outputs": []
    },
    {
      "cell_type": "code",
      "source": [
        "data['ever_married']=ever_married\n",
        "\n",
        "data['gender']=gender\n",
        "data['Residence_type']=residence_type"
      ],
      "metadata": {
        "id": "7IeWg53MMhq2"
      },
      "execution_count": 14,
      "outputs": []
    },
    {
      "cell_type": "code",
      "source": [
        "def onehot_encode(df,column):\n",
        "  df=df.copy()\n",
        "  dummies=pd.get_dummies(df[column],prefix=column)\n",
        "\n",
        "  df=pd.concat([df,dummies],axis=1)\n",
        "  df=df.drop(column,axis=1)\n",
        "  return df"
      ],
      "metadata": {
        "id": "XD_lcqM5wJF0"
      },
      "execution_count": 15,
      "outputs": []
    },
    {
      "cell_type": "code",
      "source": [
        "for column in ['work_type','smoking_status']:\n",
        "     data=onehot_encode(data,column=column)"
      ],
      "metadata": {
        "id": "Wnam5jNnxQLa"
      },
      "execution_count": 16,
      "outputs": []
    },
    {
      "cell_type": "code",
      "source": [
        "data"
      ],
      "metadata": {
        "id": "g87Q9HV5ynxD",
        "colab": {
          "base_uri": "https://localhost:8080/",
          "height": 505
        },
        "outputId": "09f6d4f9-1113-421a-dda9-bef445f16a2b"
      },
      "execution_count": 17,
      "outputs": [
        {
          "output_type": "execute_result",
          "data": {
            "text/plain": [
              "      gender   age  hypertension  heart_disease  ever_married  Residence_type  \\\n",
              "0          1  67.0             0              1             1               1   \n",
              "1          0  61.0             0              0             1               0   \n",
              "2          1  80.0             0              1             1               0   \n",
              "3          0  49.0             0              0             1               1   \n",
              "4          0  79.0             1              0             1               0   \n",
              "...      ...   ...           ...            ...           ...             ...   \n",
              "5105       0  80.0             1              0             1               1   \n",
              "5106       0  81.0             0              0             1               1   \n",
              "5107       0  35.0             0              0             1               0   \n",
              "5108       1  51.0             0              0             1               0   \n",
              "5109       0  44.0             0              0             1               1   \n",
              "\n",
              "      avg_glucose_level        bmi  stroke  work_type_Govt_job  \\\n",
              "0                228.69  36.600000       1                   0   \n",
              "1                202.21  28.893237       1                   0   \n",
              "2                105.92  32.500000       1                   0   \n",
              "3                171.23  34.400000       1                   0   \n",
              "4                174.12  24.000000       1                   0   \n",
              "...                 ...        ...     ...                 ...   \n",
              "5105              83.75  28.893237       0                   0   \n",
              "5106             125.20  40.000000       0                   0   \n",
              "5107              82.99  30.600000       0                   0   \n",
              "5108             166.29  25.600000       0                   0   \n",
              "5109              85.28  26.200000       0                   1   \n",
              "\n",
              "      work_type_Never_worked  work_type_Private  work_type_Self-employed  \\\n",
              "0                          0                  1                        0   \n",
              "1                          0                  0                        1   \n",
              "2                          0                  1                        0   \n",
              "3                          0                  1                        0   \n",
              "4                          0                  0                        1   \n",
              "...                      ...                ...                      ...   \n",
              "5105                       0                  1                        0   \n",
              "5106                       0                  0                        1   \n",
              "5107                       0                  0                        1   \n",
              "5108                       0                  1                        0   \n",
              "5109                       0                  0                        0   \n",
              "\n",
              "      work_type_children  smoking_status_Unknown  \\\n",
              "0                      0                       0   \n",
              "1                      0                       0   \n",
              "2                      0                       0   \n",
              "3                      0                       0   \n",
              "4                      0                       0   \n",
              "...                  ...                     ...   \n",
              "5105                   0                       0   \n",
              "5106                   0                       0   \n",
              "5107                   0                       0   \n",
              "5108                   0                       0   \n",
              "5109                   0                       1   \n",
              "\n",
              "      smoking_status_formerly smoked  smoking_status_never smoked  \\\n",
              "0                                  1                            0   \n",
              "1                                  0                            1   \n",
              "2                                  0                            1   \n",
              "3                                  0                            0   \n",
              "4                                  0                            1   \n",
              "...                              ...                          ...   \n",
              "5105                               0                            1   \n",
              "5106                               0                            1   \n",
              "5107                               0                            1   \n",
              "5108                               1                            0   \n",
              "5109                               0                            0   \n",
              "\n",
              "      smoking_status_smokes  \n",
              "0                         0  \n",
              "1                         0  \n",
              "2                         0  \n",
              "3                         1  \n",
              "4                         0  \n",
              "...                     ...  \n",
              "5105                      0  \n",
              "5106                      0  \n",
              "5107                      0  \n",
              "5108                      0  \n",
              "5109                      0  \n",
              "\n",
              "[5110 rows x 18 columns]"
            ],
            "text/html": [
              "\n",
              "  <div id=\"df-ba20a490-2eb9-4a00-bc2e-bf1dc93dccb2\">\n",
              "    <div class=\"colab-df-container\">\n",
              "      <div>\n",
              "<style scoped>\n",
              "    .dataframe tbody tr th:only-of-type {\n",
              "        vertical-align: middle;\n",
              "    }\n",
              "\n",
              "    .dataframe tbody tr th {\n",
              "        vertical-align: top;\n",
              "    }\n",
              "\n",
              "    .dataframe thead th {\n",
              "        text-align: right;\n",
              "    }\n",
              "</style>\n",
              "<table border=\"1\" class=\"dataframe\">\n",
              "  <thead>\n",
              "    <tr style=\"text-align: right;\">\n",
              "      <th></th>\n",
              "      <th>gender</th>\n",
              "      <th>age</th>\n",
              "      <th>hypertension</th>\n",
              "      <th>heart_disease</th>\n",
              "      <th>ever_married</th>\n",
              "      <th>Residence_type</th>\n",
              "      <th>avg_glucose_level</th>\n",
              "      <th>bmi</th>\n",
              "      <th>stroke</th>\n",
              "      <th>work_type_Govt_job</th>\n",
              "      <th>work_type_Never_worked</th>\n",
              "      <th>work_type_Private</th>\n",
              "      <th>work_type_Self-employed</th>\n",
              "      <th>work_type_children</th>\n",
              "      <th>smoking_status_Unknown</th>\n",
              "      <th>smoking_status_formerly smoked</th>\n",
              "      <th>smoking_status_never smoked</th>\n",
              "      <th>smoking_status_smokes</th>\n",
              "    </tr>\n",
              "  </thead>\n",
              "  <tbody>\n",
              "    <tr>\n",
              "      <th>0</th>\n",
              "      <td>1</td>\n",
              "      <td>67.0</td>\n",
              "      <td>0</td>\n",
              "      <td>1</td>\n",
              "      <td>1</td>\n",
              "      <td>1</td>\n",
              "      <td>228.69</td>\n",
              "      <td>36.600000</td>\n",
              "      <td>1</td>\n",
              "      <td>0</td>\n",
              "      <td>0</td>\n",
              "      <td>1</td>\n",
              "      <td>0</td>\n",
              "      <td>0</td>\n",
              "      <td>0</td>\n",
              "      <td>1</td>\n",
              "      <td>0</td>\n",
              "      <td>0</td>\n",
              "    </tr>\n",
              "    <tr>\n",
              "      <th>1</th>\n",
              "      <td>0</td>\n",
              "      <td>61.0</td>\n",
              "      <td>0</td>\n",
              "      <td>0</td>\n",
              "      <td>1</td>\n",
              "      <td>0</td>\n",
              "      <td>202.21</td>\n",
              "      <td>28.893237</td>\n",
              "      <td>1</td>\n",
              "      <td>0</td>\n",
              "      <td>0</td>\n",
              "      <td>0</td>\n",
              "      <td>1</td>\n",
              "      <td>0</td>\n",
              "      <td>0</td>\n",
              "      <td>0</td>\n",
              "      <td>1</td>\n",
              "      <td>0</td>\n",
              "    </tr>\n",
              "    <tr>\n",
              "      <th>2</th>\n",
              "      <td>1</td>\n",
              "      <td>80.0</td>\n",
              "      <td>0</td>\n",
              "      <td>1</td>\n",
              "      <td>1</td>\n",
              "      <td>0</td>\n",
              "      <td>105.92</td>\n",
              "      <td>32.500000</td>\n",
              "      <td>1</td>\n",
              "      <td>0</td>\n",
              "      <td>0</td>\n",
              "      <td>1</td>\n",
              "      <td>0</td>\n",
              "      <td>0</td>\n",
              "      <td>0</td>\n",
              "      <td>0</td>\n",
              "      <td>1</td>\n",
              "      <td>0</td>\n",
              "    </tr>\n",
              "    <tr>\n",
              "      <th>3</th>\n",
              "      <td>0</td>\n",
              "      <td>49.0</td>\n",
              "      <td>0</td>\n",
              "      <td>0</td>\n",
              "      <td>1</td>\n",
              "      <td>1</td>\n",
              "      <td>171.23</td>\n",
              "      <td>34.400000</td>\n",
              "      <td>1</td>\n",
              "      <td>0</td>\n",
              "      <td>0</td>\n",
              "      <td>1</td>\n",
              "      <td>0</td>\n",
              "      <td>0</td>\n",
              "      <td>0</td>\n",
              "      <td>0</td>\n",
              "      <td>0</td>\n",
              "      <td>1</td>\n",
              "    </tr>\n",
              "    <tr>\n",
              "      <th>4</th>\n",
              "      <td>0</td>\n",
              "      <td>79.0</td>\n",
              "      <td>1</td>\n",
              "      <td>0</td>\n",
              "      <td>1</td>\n",
              "      <td>0</td>\n",
              "      <td>174.12</td>\n",
              "      <td>24.000000</td>\n",
              "      <td>1</td>\n",
              "      <td>0</td>\n",
              "      <td>0</td>\n",
              "      <td>0</td>\n",
              "      <td>1</td>\n",
              "      <td>0</td>\n",
              "      <td>0</td>\n",
              "      <td>0</td>\n",
              "      <td>1</td>\n",
              "      <td>0</td>\n",
              "    </tr>\n",
              "    <tr>\n",
              "      <th>...</th>\n",
              "      <td>...</td>\n",
              "      <td>...</td>\n",
              "      <td>...</td>\n",
              "      <td>...</td>\n",
              "      <td>...</td>\n",
              "      <td>...</td>\n",
              "      <td>...</td>\n",
              "      <td>...</td>\n",
              "      <td>...</td>\n",
              "      <td>...</td>\n",
              "      <td>...</td>\n",
              "      <td>...</td>\n",
              "      <td>...</td>\n",
              "      <td>...</td>\n",
              "      <td>...</td>\n",
              "      <td>...</td>\n",
              "      <td>...</td>\n",
              "      <td>...</td>\n",
              "    </tr>\n",
              "    <tr>\n",
              "      <th>5105</th>\n",
              "      <td>0</td>\n",
              "      <td>80.0</td>\n",
              "      <td>1</td>\n",
              "      <td>0</td>\n",
              "      <td>1</td>\n",
              "      <td>1</td>\n",
              "      <td>83.75</td>\n",
              "      <td>28.893237</td>\n",
              "      <td>0</td>\n",
              "      <td>0</td>\n",
              "      <td>0</td>\n",
              "      <td>1</td>\n",
              "      <td>0</td>\n",
              "      <td>0</td>\n",
              "      <td>0</td>\n",
              "      <td>0</td>\n",
              "      <td>1</td>\n",
              "      <td>0</td>\n",
              "    </tr>\n",
              "    <tr>\n",
              "      <th>5106</th>\n",
              "      <td>0</td>\n",
              "      <td>81.0</td>\n",
              "      <td>0</td>\n",
              "      <td>0</td>\n",
              "      <td>1</td>\n",
              "      <td>1</td>\n",
              "      <td>125.20</td>\n",
              "      <td>40.000000</td>\n",
              "      <td>0</td>\n",
              "      <td>0</td>\n",
              "      <td>0</td>\n",
              "      <td>0</td>\n",
              "      <td>1</td>\n",
              "      <td>0</td>\n",
              "      <td>0</td>\n",
              "      <td>0</td>\n",
              "      <td>1</td>\n",
              "      <td>0</td>\n",
              "    </tr>\n",
              "    <tr>\n",
              "      <th>5107</th>\n",
              "      <td>0</td>\n",
              "      <td>35.0</td>\n",
              "      <td>0</td>\n",
              "      <td>0</td>\n",
              "      <td>1</td>\n",
              "      <td>0</td>\n",
              "      <td>82.99</td>\n",
              "      <td>30.600000</td>\n",
              "      <td>0</td>\n",
              "      <td>0</td>\n",
              "      <td>0</td>\n",
              "      <td>0</td>\n",
              "      <td>1</td>\n",
              "      <td>0</td>\n",
              "      <td>0</td>\n",
              "      <td>0</td>\n",
              "      <td>1</td>\n",
              "      <td>0</td>\n",
              "    </tr>\n",
              "    <tr>\n",
              "      <th>5108</th>\n",
              "      <td>1</td>\n",
              "      <td>51.0</td>\n",
              "      <td>0</td>\n",
              "      <td>0</td>\n",
              "      <td>1</td>\n",
              "      <td>0</td>\n",
              "      <td>166.29</td>\n",
              "      <td>25.600000</td>\n",
              "      <td>0</td>\n",
              "      <td>0</td>\n",
              "      <td>0</td>\n",
              "      <td>1</td>\n",
              "      <td>0</td>\n",
              "      <td>0</td>\n",
              "      <td>0</td>\n",
              "      <td>1</td>\n",
              "      <td>0</td>\n",
              "      <td>0</td>\n",
              "    </tr>\n",
              "    <tr>\n",
              "      <th>5109</th>\n",
              "      <td>0</td>\n",
              "      <td>44.0</td>\n",
              "      <td>0</td>\n",
              "      <td>0</td>\n",
              "      <td>1</td>\n",
              "      <td>1</td>\n",
              "      <td>85.28</td>\n",
              "      <td>26.200000</td>\n",
              "      <td>0</td>\n",
              "      <td>1</td>\n",
              "      <td>0</td>\n",
              "      <td>0</td>\n",
              "      <td>0</td>\n",
              "      <td>0</td>\n",
              "      <td>1</td>\n",
              "      <td>0</td>\n",
              "      <td>0</td>\n",
              "      <td>0</td>\n",
              "    </tr>\n",
              "  </tbody>\n",
              "</table>\n",
              "<p>5110 rows × 18 columns</p>\n",
              "</div>\n",
              "      <button class=\"colab-df-convert\" onclick=\"convertToInteractive('df-ba20a490-2eb9-4a00-bc2e-bf1dc93dccb2')\"\n",
              "              title=\"Convert this dataframe to an interactive table.\"\n",
              "              style=\"display:none;\">\n",
              "        \n",
              "  <svg xmlns=\"http://www.w3.org/2000/svg\" height=\"24px\"viewBox=\"0 0 24 24\"\n",
              "       width=\"24px\">\n",
              "    <path d=\"M0 0h24v24H0V0z\" fill=\"none\"/>\n",
              "    <path d=\"M18.56 5.44l.94 2.06.94-2.06 2.06-.94-2.06-.94-.94-2.06-.94 2.06-2.06.94zm-11 1L8.5 8.5l.94-2.06 2.06-.94-2.06-.94L8.5 2.5l-.94 2.06-2.06.94zm10 10l.94 2.06.94-2.06 2.06-.94-2.06-.94-.94-2.06-.94 2.06-2.06.94z\"/><path d=\"M17.41 7.96l-1.37-1.37c-.4-.4-.92-.59-1.43-.59-.52 0-1.04.2-1.43.59L10.3 9.45l-7.72 7.72c-.78.78-.78 2.05 0 2.83L4 21.41c.39.39.9.59 1.41.59.51 0 1.02-.2 1.41-.59l7.78-7.78 2.81-2.81c.8-.78.8-2.07 0-2.86zM5.41 20L4 18.59l7.72-7.72 1.47 1.35L5.41 20z\"/>\n",
              "  </svg>\n",
              "      </button>\n",
              "      \n",
              "  <style>\n",
              "    .colab-df-container {\n",
              "      display:flex;\n",
              "      flex-wrap:wrap;\n",
              "      gap: 12px;\n",
              "    }\n",
              "\n",
              "    .colab-df-convert {\n",
              "      background-color: #E8F0FE;\n",
              "      border: none;\n",
              "      border-radius: 50%;\n",
              "      cursor: pointer;\n",
              "      display: none;\n",
              "      fill: #1967D2;\n",
              "      height: 32px;\n",
              "      padding: 0 0 0 0;\n",
              "      width: 32px;\n",
              "    }\n",
              "\n",
              "    .colab-df-convert:hover {\n",
              "      background-color: #E2EBFA;\n",
              "      box-shadow: 0px 1px 2px rgba(60, 64, 67, 0.3), 0px 1px 3px 1px rgba(60, 64, 67, 0.15);\n",
              "      fill: #174EA6;\n",
              "    }\n",
              "\n",
              "    [theme=dark] .colab-df-convert {\n",
              "      background-color: #3B4455;\n",
              "      fill: #D2E3FC;\n",
              "    }\n",
              "\n",
              "    [theme=dark] .colab-df-convert:hover {\n",
              "      background-color: #434B5C;\n",
              "      box-shadow: 0px 1px 3px 1px rgba(0, 0, 0, 0.15);\n",
              "      filter: drop-shadow(0px 1px 2px rgba(0, 0, 0, 0.3));\n",
              "      fill: #FFFFFF;\n",
              "    }\n",
              "  </style>\n",
              "\n",
              "      <script>\n",
              "        const buttonEl =\n",
              "          document.querySelector('#df-ba20a490-2eb9-4a00-bc2e-bf1dc93dccb2 button.colab-df-convert');\n",
              "        buttonEl.style.display =\n",
              "          google.colab.kernel.accessAllowed ? 'block' : 'none';\n",
              "\n",
              "        async function convertToInteractive(key) {\n",
              "          const element = document.querySelector('#df-ba20a490-2eb9-4a00-bc2e-bf1dc93dccb2');\n",
              "          const dataTable =\n",
              "            await google.colab.kernel.invokeFunction('convertToInteractive',\n",
              "                                                     [key], {});\n",
              "          if (!dataTable) return;\n",
              "\n",
              "          const docLinkHtml = 'Like what you see? Visit the ' +\n",
              "            '<a target=\"_blank\" href=https://colab.research.google.com/notebooks/data_table.ipynb>data table notebook</a>'\n",
              "            + ' to learn more about interactive tables.';\n",
              "          element.innerHTML = '';\n",
              "          dataTable['output_type'] = 'display_data';\n",
              "          await google.colab.output.renderOutput(dataTable, element);\n",
              "          const docLink = document.createElement('div');\n",
              "          docLink.innerHTML = docLinkHtml;\n",
              "          element.appendChild(docLink);\n",
              "        }\n",
              "      </script>\n",
              "    </div>\n",
              "  </div>\n",
              "  "
            ]
          },
          "metadata": {},
          "execution_count": 17
        }
      ]
    },
    {
      "cell_type": "code",
      "source": [
        "fig,axes=plt.subplots(figsize=(8,4))\n",
        "data['stroke'].value_counts(normalize=True).plot.bar(width=0.2,color=('red','green'))\n",
        "plt.tight_layout()\n",
        "plt.xlabel(\"Stroke\")\n",
        "plt.show()"
      ],
      "metadata": {
        "id": "ILqr08m_kUD1",
        "colab": {
          "base_uri": "https://localhost:8080/",
          "height": 311
        },
        "outputId": "4d157d20-4fb4-43d3-fd35-eb065d4eb283"
      },
      "execution_count": 18,
      "outputs": [
        {
          "output_type": "display_data",
          "data": {
            "text/plain": [
              "<Figure size 576x288 with 1 Axes>"
            ],
            "image/png": "[encoded data removed]"
          },
          "metadata": {
            "needs_background": "light"
          }
        }
      ]
    },
    {
      "cell_type": "code",
      "source": [
        "    Y = data['stroke']\n",
        "    X = data.drop('stroke', axis=1)\n",
        "\n",
        "    # Train-test split\n",
        "    X_train, X_test, Y_train, Y_test = train_test_split(X, Y, train_size=0.8, shuffle=True, random_state=1)"
      ],
      "metadata": {
        "id": "NvyCgn540EwS"
      },
      "execution_count": 19,
      "outputs": []
    },
    {
      "cell_type": "code",
      "source": [
        "    scaler = StandardScaler()\n",
        "    scaler.fit(X_train)\n",
        "    X_train = pd.DataFrame(scaler.transform(X_train), index=X_train.index, columns=X_train.columns)\n",
        "    X_test = pd.DataFrame(scaler.transform(X_test), index=X_test.index, columns=X_test.columns)"
      ],
      "metadata": {
        "id": "D3Qj0CcWAWF5"
      },
      "execution_count": 20,
      "outputs": []
    },
    {
      "cell_type": "code",
      "source": [
        "X_train"
      ],
      "metadata": {
        "id": "XRpfqNYr10W7",
        "colab": {
          "base_uri": "https://localhost:8080/",
          "height": 505
        },
        "outputId": "74a67d6a-9f10-426d-8c92-a1eb612316a9"
      },
      "execution_count": 21,
      "outputs": [
        {
          "output_type": "execute_result",
          "data": {
            "text/plain": [
              "        gender       age  hypertension  heart_disease  ever_married  \\\n",
              "4152  1.179848  0.525978     -0.327504      -0.239632      0.722864   \n",
              "4051  1.179848  0.525978     -0.327504      -0.239632      0.722864   \n",
              "5076 -0.847567 -0.402645     -0.327504      -0.239632      0.722864   \n",
              "874   1.179848  1.631482     -0.327504      -0.239632      0.722864   \n",
              "3534 -0.847567  0.791299     -0.327504      -0.239632      0.722864   \n",
              "...        ...       ...           ...            ...           ...   \n",
              "2895  1.179848  0.127997     -0.327504      -0.239632      0.722864   \n",
              "2763 -0.847567  0.083777     -0.327504      -0.239632      0.722864   \n",
              "905  -0.847567 -0.535305     -0.327504      -0.239632      0.722864   \n",
              "3980 -0.847567  0.083777     -0.327504      -0.239632      0.722864   \n",
              "235  -0.847567  1.100840     -0.327504      -0.239632      0.722864   \n",
              "\n",
              "      Residence_type  avg_glucose_level       bmi  work_type_Govt_job  \\\n",
              "4152       -1.016775          -0.708689 -0.119923           -0.382179   \n",
              "4051        0.983502           2.769942 -0.862341            2.616572   \n",
              "5076       -1.016775           1.516505 -0.771167           -0.382179   \n",
              "874        -1.016775          -1.074698 -0.289247           -0.382179   \n",
              "3534        0.983502           0.055339 -1.279137           -0.382179   \n",
              "...              ...                ...       ...                 ...   \n",
              "2895        0.983502           0.708548  0.049400           -0.382179   \n",
              "2763       -1.016775          -0.925910  0.401072           -0.382179   \n",
              "905        -1.016775          -0.649306  0.869968           -0.382179   \n",
              "3980       -1.016775           2.481859  3.396794           -0.382179   \n",
              "235        -1.016775           2.326449  1.351888           -0.382179   \n",
              "\n",
              "      work_type_Never_worked  work_type_Private  work_type_Self-employed  \\\n",
              "4152               -0.068333          -1.148952                 2.281083   \n",
              "4051               -0.068333          -1.148952                -0.438388   \n",
              "5076               -0.068333           0.870358                -0.438388   \n",
              "874                -0.068333           0.870358                -0.438388   \n",
              "3534               -0.068333           0.870358                -0.438388   \n",
              "...                      ...                ...                      ...   \n",
              "2895               -0.068333           0.870358                -0.438388   \n",
              "2763               -0.068333           0.870358                -0.438388   \n",
              "905                -0.068333           0.870358                -0.438388   \n",
              "3980               -0.068333           0.870358                -0.438388   \n",
              "235                -0.068333           0.870358                -0.438388   \n",
              "\n",
              "      work_type_children  smoking_status_Unknown  \\\n",
              "4152           -0.399645               -0.664047   \n",
              "4051           -0.399645               -0.664047   \n",
              "5076           -0.399645               -0.664047   \n",
              "874            -0.399645               -0.664047   \n",
              "3534           -0.399645               -0.664047   \n",
              "...                  ...                     ...   \n",
              "2895           -0.399645               -0.664047   \n",
              "2763           -0.399645                1.505917   \n",
              "905            -0.399645               -0.664047   \n",
              "3980           -0.399645               -0.664047   \n",
              "235            -0.399645                1.505917   \n",
              "\n",
              "      smoking_status_formerly smoked  smoking_status_never smoked  \\\n",
              "4152                       -0.459239                    -0.760111   \n",
              "4051                       -0.459239                     1.315597   \n",
              "5076                       -0.459239                     1.315597   \n",
              "874                        -0.459239                     1.315597   \n",
              "3534                       -0.459239                     1.315597   \n",
              "...                              ...                          ...   \n",
              "2895                       -0.459239                     1.315597   \n",
              "2763                       -0.459239                    -0.760111   \n",
              "905                        -0.459239                     1.315597   \n",
              "3980                       -0.459239                    -0.760111   \n",
              "235                        -0.459239                    -0.760111   \n",
              "\n",
              "      smoking_status_smokes  \n",
              "4152               2.347244  \n",
              "4051              -0.426032  \n",
              "5076              -0.426032  \n",
              "874               -0.426032  \n",
              "3534              -0.426032  \n",
              "...                     ...  \n",
              "2895              -0.426032  \n",
              "2763              -0.426032  \n",
              "905               -0.426032  \n",
              "3980               2.347244  \n",
              "235               -0.426032  \n",
              "\n",
              "[4088 rows x 17 columns]"
            ],
            "text/html": [
              "\n",
              "  <div id=\"df-3dca89f9-454a-411b-9111-f36c9bbe6916\">\n",
              "    <div class=\"colab-df-container\">\n",
              "      <div>\n",
              "<style scoped>\n",
              "    .dataframe tbody tr th:only-of-type {\n",
              "        vertical-align: middle;\n",
              "    }\n",
              "\n",
              "    .dataframe tbody tr th {\n",
              "        vertical-align: top;\n",
              "    }\n",
              "\n",
              "    .dataframe thead th {\n",
              "        text-align: right;\n",
              "    }\n",
              "</style>\n",
              "<table border=\"1\" class=\"dataframe\">\n",
              "  <thead>\n",
              "    <tr style=\"text-align: right;\">\n",
              "      <th></th>\n",
              "      <th>gender</th>\n",
              "      <th>age</th>\n",
              "      <th>hypertension</th>\n",
              "      <th>heart_disease</th>\n",
              "      <th>ever_married</th>\n",
              "      <th>Residence_type</th>\n",
              "      <th>avg_glucose_level</th>\n",
              "      <th>bmi</th>\n",
              "      <th>work_type_Govt_job</th>\n",
              "      <th>work_type_Never_worked</th>\n",
              "      <th>work_type_Private</th>\n",
              "      <th>work_type_Self-employed</th>\n",
              "      <th>work_type_children</th>\n",
              "      <th>smoking_status_Unknown</th>\n",
              "      <th>smoking_status_formerly smoked</th>\n",
              "      <th>smoking_status_never smoked</th>\n",
              "      <th>smoking_status_smokes</th>\n",
              "    </tr>\n",
              "  </thead>\n",
              "  <tbody>\n",
              "    <tr>\n",
              "      <th>4152</th>\n",
              "      <td>1.179848</td>\n",
              "      <td>0.525978</td>\n",
              "      <td>-0.327504</td>\n",
              "      <td>-0.239632</td>\n",
              "      <td>0.722864</td>\n",
              "      <td>-1.016775</td>\n",
              "      <td>-0.708689</td>\n",
              "      <td>-0.119923</td>\n",
              "      <td>-0.382179</td>\n",
              "      <td>-0.068333</td>\n",
              "      <td>-1.148952</td>\n",
              "      <td>2.281083</td>\n",
              "      <td>-0.399645</td>\n",
              "      <td>-0.664047</td>\n",
              "      <td>-0.459239</td>\n",
              "      <td>-0.760111</td>\n",
              "      <td>2.347244</td>\n",
              "    </tr>\n",
              "    <tr>\n",
              "      <th>4051</th>\n",
              "      <td>1.179848</td>\n",
              "      <td>0.525978</td>\n",
              "      <td>-0.327504</td>\n",
              "      <td>-0.239632</td>\n",
              "      <td>0.722864</td>\n",
              "      <td>0.983502</td>\n",
              "      <td>2.769942</td>\n",
              "      <td>-0.862341</td>\n",
              "      <td>2.616572</td>\n",
              "      <td>-0.068333</td>\n",
              "      <td>-1.148952</td>\n",
              "      <td>-0.438388</td>\n",
              "      <td>-0.399645</td>\n",
              "      <td>-0.664047</td>\n",
              "      <td>-0.459239</td>\n",
              "      <td>1.315597</td>\n",
              "      <td>-0.426032</td>\n",
              "    </tr>\n",
              "    <tr>\n",
              "      <th>5076</th>\n",
              "      <td>-0.847567</td>\n",
              "      <td>-0.402645</td>\n",
              "      <td>-0.327504</td>\n",
              "      <td>-0.239632</td>\n",
              "      <td>0.722864</td>\n",
              "      <td>-1.016775</td>\n",
              "      <td>1.516505</td>\n",
              "      <td>-0.771167</td>\n",
              "      <td>-0.382179</td>\n",
              "      <td>-0.068333</td>\n",
              "      <td>0.870358</td>\n",
              "      <td>-0.438388</td>\n",
              "      <td>-0.399645</td>\n",
              "      <td>-0.664047</td>\n",
              "      <td>-0.459239</td>\n",
              "      <td>1.315597</td>\n",
              "      <td>-0.426032</td>\n",
              "    </tr>\n",
              "    <tr>\n",
              "      <th>874</th>\n",
              "      <td>1.179848</td>\n",
              "      <td>1.631482</td>\n",
              "      <td>-0.327504</td>\n",
              "      <td>-0.239632</td>\n",
              "      <td>0.722864</td>\n",
              "      <td>-1.016775</td>\n",
              "      <td>-1.074698</td>\n",
              "      <td>-0.289247</td>\n",
              "      <td>-0.382179</td>\n",
              "      <td>-0.068333</td>\n",
              "      <td>0.870358</td>\n",
              "      <td>-0.438388</td>\n",
              "      <td>-0.399645</td>\n",
              "      <td>-0.664047</td>\n",
              "      <td>-0.459239</td>\n",
              "      <td>1.315597</td>\n",
              "      <td>-0.426032</td>\n",
              "    </tr>\n",
              "    <tr>\n",
              "      <th>3534</th>\n",
              "      <td>-0.847567</td>\n",
              "      <td>0.791299</td>\n",
              "      <td>-0.327504</td>\n",
              "      <td>-0.239632</td>\n",
              "      <td>0.722864</td>\n",
              "      <td>0.983502</td>\n",
              "      <td>0.055339</td>\n",
              "      <td>-1.279137</td>\n",
              "      <td>-0.382179</td>\n",
              "      <td>-0.068333</td>\n",
              "      <td>0.870358</td>\n",
              "      <td>-0.438388</td>\n",
              "      <td>-0.399645</td>\n",
              "      <td>-0.664047</td>\n",
              "      <td>-0.459239</td>\n",
              "      <td>1.315597</td>\n",
              "      <td>-0.426032</td>\n",
              "    </tr>\n",
              "    <tr>\n",
              "      <th>...</th>\n",
              "      <td>...</td>\n",
              "      <td>...</td>\n",
              "      <td>...</td>\n",
              "      <td>...</td>\n",
              "      <td>...</td>\n",
              "      <td>...</td>\n",
              "      <td>...</td>\n",
              "      <td>...</td>\n",
              "      <td>...</td>\n",
              "      <td>...</td>\n",
              "      <td>...</td>\n",
              "      <td>...</td>\n",
              "      <td>...</td>\n",
              "      <td>...</td>\n",
              "      <td>...</td>\n",
              "      <td>...</td>\n",
              "      <td>...</td>\n",
              "    </tr>\n",
              "    <tr>\n",
              "      <th>2895</th>\n",
              "      <td>1.179848</td>\n",
              "      <td>0.127997</td>\n",
              "      <td>-0.327504</td>\n",
              "      <td>-0.239632</td>\n",
              "      <td>0.722864</td>\n",
              "      <td>0.983502</td>\n",
              "      <td>0.708548</td>\n",
              "      <td>0.049400</td>\n",
              "      <td>-0.382179</td>\n",
              "      <td>-0.068333</td>\n",
              "      <td>0.870358</td>\n",
              "      <td>-0.438388</td>\n",
              "      <td>-0.399645</td>\n",
              "      <td>-0.664047</td>\n",
              "      <td>-0.459239</td>\n",
              "      <td>1.315597</td>\n",
              "      <td>-0.426032</td>\n",
              "    </tr>\n",
              "    <tr>\n",
              "      <th>2763</th>\n",
              "      <td>-0.847567</td>\n",
              "      <td>0.083777</td>\n",
              "      <td>-0.327504</td>\n",
              "      <td>-0.239632</td>\n",
              "      <td>0.722864</td>\n",
              "      <td>-1.016775</td>\n",
              "      <td>-0.925910</td>\n",
              "      <td>0.401072</td>\n",
              "      <td>-0.382179</td>\n",
              "      <td>-0.068333</td>\n",
              "      <td>0.870358</td>\n",
              "      <td>-0.438388</td>\n",
              "      <td>-0.399645</td>\n",
              "      <td>1.505917</td>\n",
              "      <td>-0.459239</td>\n",
              "      <td>-0.760111</td>\n",
              "      <td>-0.426032</td>\n",
              "    </tr>\n",
              "    <tr>\n",
              "      <th>905</th>\n",
              "      <td>-0.847567</td>\n",
              "      <td>-0.535305</td>\n",
              "      <td>-0.327504</td>\n",
              "      <td>-0.239632</td>\n",
              "      <td>0.722864</td>\n",
              "      <td>-1.016775</td>\n",
              "      <td>-0.649306</td>\n",
              "      <td>0.869968</td>\n",
              "      <td>-0.382179</td>\n",
              "      <td>-0.068333</td>\n",
              "      <td>0.870358</td>\n",
              "      <td>-0.438388</td>\n",
              "      <td>-0.399645</td>\n",
              "      <td>-0.664047</td>\n",
              "      <td>-0.459239</td>\n",
              "      <td>1.315597</td>\n",
              "      <td>-0.426032</td>\n",
              "    </tr>\n",
              "    <tr>\n",
              "      <th>3980</th>\n",
              "      <td>-0.847567</td>\n",
              "      <td>0.083777</td>\n",
              "      <td>-0.327504</td>\n",
              "      <td>-0.239632</td>\n",
              "      <td>0.722864</td>\n",
              "      <td>-1.016775</td>\n",
              "      <td>2.481859</td>\n",
              "      <td>3.396794</td>\n",
              "      <td>-0.382179</td>\n",
              "      <td>-0.068333</td>\n",
              "      <td>0.870358</td>\n",
              "      <td>-0.438388</td>\n",
              "      <td>-0.399645</td>\n",
              "      <td>-0.664047</td>\n",
              "      <td>-0.459239</td>\n",
              "      <td>-0.760111</td>\n",
              "      <td>2.347244</td>\n",
              "    </tr>\n",
              "    <tr>\n",
              "      <th>235</th>\n",
              "      <td>-0.847567</td>\n",
              "      <td>1.100840</td>\n",
              "      <td>-0.327504</td>\n",
              "      <td>-0.239632</td>\n",
              "      <td>0.722864</td>\n",
              "      <td>-1.016775</td>\n",
              "      <td>2.326449</td>\n",
              "      <td>1.351888</td>\n",
              "      <td>-0.382179</td>\n",
              "      <td>-0.068333</td>\n",
              "      <td>0.870358</td>\n",
              "      <td>-0.438388</td>\n",
              "      <td>-0.399645</td>\n",
              "      <td>1.505917</td>\n",
              "      <td>-0.459239</td>\n",
              "      <td>-0.760111</td>\n",
              "      <td>-0.426032</td>\n",
              "    </tr>\n",
              "  </tbody>\n",
              "</table>\n",
              "<p>4088 rows × 17 columns</p>\n",
              "</div>\n",
              "      <button class=\"colab-df-convert\" onclick=\"convertToInteractive('df-3dca89f9-454a-411b-9111-f36c9bbe6916')\"\n",
              "              title=\"Convert this dataframe to an interactive table.\"\n",
              "              style=\"display:none;\">\n",
              "        \n",
              "  <svg xmlns=\"http://www.w3.org/2000/svg\" height=\"24px\"viewBox=\"0 0 24 24\"\n",
              "       width=\"24px\">\n",
              "    <path d=\"M0 0h24v24H0V0z\" fill=\"none\"/>\n",
              "    <path d=\"M18.56 5.44l.94 2.06.94-2.06 2.06-.94-2.06-.94-.94-2.06-.94 2.06-2.06.94zm-11 1L8.5 8.5l.94-2.06 2.06-.94-2.06-.94L8.5 2.5l-.94 2.06-2.06.94zm10 10l.94 2.06.94-2.06 2.06-.94-2.06-.94-.94-2.06-.94 2.06-2.06.94z\"/><path d=\"M17.41 7.96l-1.37-1.37c-.4-.4-.92-.59-1.43-.59-.52 0-1.04.2-1.43.59L10.3 9.45l-7.72 7.72c-.78.78-.78 2.05 0 2.83L4 21.41c.39.39.9.59 1.41.59.51 0 1.02-.2 1.41-.59l7.78-7.78 2.81-2.81c.8-.78.8-2.07 0-2.86zM5.41 20L4 18.59l7.72-7.72 1.47 1.35L5.41 20z\"/>\n",
              "  </svg>\n",
              "      </button>\n",
              "      \n",
              "  <style>\n",
              "    .colab-df-container {\n",
              "      display:flex;\n",
              "      flex-wrap:wrap;\n",
              "      gap: 12px;\n",
              "    }\n",
              "\n",
              "    .colab-df-convert {\n",
              "      background-color: #E8F0FE;\n",
              "      border: none;\n",
              "      border-radius: 50%;\n",
              "      cursor: pointer;\n",
              "      display: none;\n",
              "      fill: #1967D2;\n",
              "      height: 32px;\n",
              "      padding: 0 0 0 0;\n",
              "      width: 32px;\n",
              "    }\n",
              "\n",
              "    .colab-df-convert:hover {\n",
              "      background-color: #E2EBFA;\n",
              "      box-shadow: 0px 1px 2px rgba(60, 64, 67, 0.3), 0px 1px 3px 1px rgba(60, 64, 67, 0.15);\n",
              "      fill: #174EA6;\n",
              "    }\n",
              "\n",
              "    [theme=dark] .colab-df-convert {\n",
              "      background-color: #3B4455;\n",
              "      fill: #D2E3FC;\n",
              "    }\n",
              "\n",
              "    [theme=dark] .colab-df-convert:hover {\n",
              "      background-color: #434B5C;\n",
              "      box-shadow: 0px 1px 3px 1px rgba(0, 0, 0, 0.15);\n",
              "      filter: drop-shadow(0px 1px 2px rgba(0, 0, 0, 0.3));\n",
              "      fill: #FFFFFF;\n",
              "    }\n",
              "  </style>\n",
              "\n",
              "      <script>\n",
              "        const buttonEl =\n",
              "          document.querySelector('#df-3dca89f9-454a-411b-9111-f36c9bbe6916 button.colab-df-convert');\n",
              "        buttonEl.style.display =\n",
              "          google.colab.kernel.accessAllowed ? 'block' : 'none';\n",
              "\n",
              "        async function convertToInteractive(key) {\n",
              "          const element = document.querySelector('#df-3dca89f9-454a-411b-9111-f36c9bbe6916');\n",
              "          const dataTable =\n",
              "            await google.colab.kernel.invokeFunction('convertToInteractive',\n",
              "                                                     [key], {});\n",
              "          if (!dataTable) return;\n",
              "\n",
              "          const docLinkHtml = 'Like what you see? Visit the ' +\n",
              "            '<a target=\"_blank\" href=https://colab.research.google.com/notebooks/data_table.ipynb>data table notebook</a>'\n",
              "            + ' to learn more about interactive tables.';\n",
              "          element.innerHTML = '';\n",
              "          dataTable['output_type'] = 'display_data';\n",
              "          await google.colab.output.renderOutput(dataTable, element);\n",
              "          const docLink = document.createElement('div');\n",
              "          docLink.innerHTML = docLinkHtml;\n",
              "          element.appendChild(docLink);\n",
              "        }\n",
              "      </script>\n",
              "    </div>\n",
              "  </div>\n",
              "  "
            ]
          },
          "metadata": {},
          "execution_count": 21
        }
      ]
    },
    {
      "cell_type": "code",
      "source": [
        "Y_train"
      ],
      "metadata": {
        "id": "cMbZGmhZ6zi2",
        "colab": {
          "base_uri": "https://localhost:8080/"
        },
        "outputId": "7905e5ba-4e9f-4931-a0ee-c5641cfd2f37"
      },
      "execution_count": 22,
      "outputs": [
        {
          "output_type": "execute_result",
          "data": {
            "text/plain": [
              "4152    0\n",
              "4051    0\n",
              "5076    0\n",
              "874     0\n",
              "3534    0\n",
              "       ..\n",
              "2895    0\n",
              "2763    0\n",
              "905     0\n",
              "3980    0\n",
              "235     1\n",
              "Name: stroke, Length: 4088, dtype: int64"
            ]
          },
          "metadata": {},
          "execution_count": 22
        }
      ]
    },
    {
      "cell_type": "code",
      "source": [
        "X_test"
      ],
      "metadata": {
        "id": "e_7KZ17I61rC",
        "colab": {
          "base_uri": "https://localhost:8080/",
          "height": 505
        },
        "outputId": "8cfb946c-f7cc-48b0-9d41-472f9e1edddf"
      },
      "execution_count": 23,
      "outputs": [
        {
          "output_type": "execute_result",
          "data": {
            "text/plain": [
              "        gender       age  hypertension  heart_disease  ever_married  \\\n",
              "4673 -0.847567 -0.048884     -0.327504      -0.239632      0.722864   \n",
              "3232 -0.847567  1.543042     -0.327504      -0.239632      0.722864   \n",
              "3694  1.179848 -0.667966     -0.327504      -0.239632     -1.383386   \n",
              "1070 -0.847567  1.675702     -0.327504      -0.239632      0.722864   \n",
              "4163 -0.847567  0.393318     -0.327504      -0.239632      0.722864   \n",
              "...        ...       ...           ...            ...           ...   \n",
              "2030  1.179848 -1.884904     -0.327504      -0.239632     -1.383386   \n",
              "4555 -0.847567 -0.933287     -0.327504      -0.239632     -1.383386   \n",
              "1056  1.179848 -1.508149     -0.327504      -0.239632     -1.383386   \n",
              "854  -0.847567  0.127997     -0.327504      -0.239632      0.722864   \n",
              "4288 -0.847567 -0.004663      3.053397      -0.239632      0.722864   \n",
              "\n",
              "      Residence_type  avg_glucose_level       bmi  work_type_Govt_job  \\\n",
              "4673       -1.016775           0.161300  1.078366            2.616572   \n",
              "3232        0.983502          -0.604493  0.153599           -0.382179   \n",
              "3694        0.983502          -0.715311 -0.458570           -0.382179   \n",
              "1070       -1.016775           3.105266 -1.018640           -0.382179   \n",
              "4163       -1.016775          -0.190360 -0.119923           -0.382179   \n",
              "...              ...                ...       ...                 ...   \n",
              "2030        0.983502          -0.720830 -0.003580           -0.382179   \n",
              "4555       -1.016775          -0.081087  1.495162           -0.382179   \n",
              "1056        0.983502          -0.172920 -0.732092           -0.382179   \n",
              "854         0.983502          -0.243782 -0.523694           -0.382179   \n",
              "4288       -1.016775          -1.075801  2.133381            2.616572   \n",
              "\n",
              "      work_type_Never_worked  work_type_Private  work_type_Self-employed  \\\n",
              "4673               -0.068333          -1.148952                -0.438388   \n",
              "3232               -0.068333           0.870358                -0.438388   \n",
              "3694               -0.068333           0.870358                -0.438388   \n",
              "1070               -0.068333          -1.148952                 2.281083   \n",
              "4163               -0.068333           0.870358                -0.438388   \n",
              "...                      ...                ...                      ...   \n",
              "2030               -0.068333          -1.148952                -0.438388   \n",
              "4555               -0.068333           0.870358                -0.438388   \n",
              "1056               -0.068333          -1.148952                -0.438388   \n",
              "854                -0.068333          -1.148952                 2.281083   \n",
              "4288               -0.068333          -1.148952                -0.438388   \n",
              "\n",
              "      work_type_children  smoking_status_Unknown  \\\n",
              "4673           -0.399645               -0.664047   \n",
              "3232           -0.399645               -0.664047   \n",
              "3694           -0.399645               -0.664047   \n",
              "1070           -0.399645               -0.664047   \n",
              "4163           -0.399645                1.505917   \n",
              "...                  ...                     ...   \n",
              "2030            2.502219                1.505917   \n",
              "4555           -0.399645               -0.664047   \n",
              "1056            2.502219                1.505917   \n",
              "854            -0.399645               -0.664047   \n",
              "4288           -0.399645                1.505917   \n",
              "\n",
              "      smoking_status_formerly smoked  smoking_status_never smoked  \\\n",
              "4673                        2.177515                    -0.760111   \n",
              "3232                        2.177515                    -0.760111   \n",
              "3694                       -0.459239                    -0.760111   \n",
              "1070                       -0.459239                     1.315597   \n",
              "4163                       -0.459239                    -0.760111   \n",
              "...                              ...                          ...   \n",
              "2030                       -0.459239                    -0.760111   \n",
              "4555                       -0.459239                    -0.760111   \n",
              "1056                       -0.459239                    -0.760111   \n",
              "854                        -0.459239                     1.315597   \n",
              "4288                       -0.459239                    -0.760111   \n",
              "\n",
              "      smoking_status_smokes  \n",
              "4673              -0.426032  \n",
              "3232              -0.426032  \n",
              "3694               2.347244  \n",
              "1070              -0.426032  \n",
              "4163              -0.426032  \n",
              "...                     ...  \n",
              "2030              -0.426032  \n",
              "4555               2.347244  \n",
              "1056              -0.426032  \n",
              "854               -0.426032  \n",
              "4288              -0.426032  \n",
              "\n",
              "[1022 rows x 17 columns]"
            ],
            "text/html": [
              "\n",
              "  <div id=\"df-105e8c1b-5275-4f68-a0c8-2ffd5eb5636d\">\n",
              "    <div class=\"colab-df-container\">\n",
              "      <div>\n",
              "<style scoped>\n",
              "    .dataframe tbody tr th:only-of-type {\n",
              "        vertical-align: middle;\n",
              "    }\n",
              "\n",
              "    .dataframe tbody tr th {\n",
              "        vertical-align: top;\n",
              "    }\n",
              "\n",
              "    .dataframe thead th {\n",
              "        text-align: right;\n",
              "    }\n",
              "</style>\n",
              "<table border=\"1\" class=\"dataframe\">\n",
              "  <thead>\n",
              "    <tr style=\"text-align: right;\">\n",
              "      <th></th>\n",
              "      <th>gender</th>\n",
              "      <th>age</th>\n",
              "      <th>hypertension</th>\n",
              "      <th>heart_disease</th>\n",
              "      <th>ever_married</th>\n",
              "      <th>Residence_type</th>\n",
              "      <th>avg_glucose_level</th>\n",
              "      <th>bmi</th>\n",
              "      <th>work_type_Govt_job</th>\n",
              "      <th>work_type_Never_worked</th>\n",
              "      <th>work_type_Private</th>\n",
              "      <th>work_type_Self-employed</th>\n",
              "      <th>work_type_children</th>\n",
              "      <th>smoking_status_Unknown</th>\n",
              "      <th>smoking_status_formerly smoked</th>\n",
              "      <th>smoking_status_never smoked</th>\n",
              "      <th>smoking_status_smokes</th>\n",
              "    </tr>\n",
              "  </thead>\n",
              "  <tbody>\n",
              "    <tr>\n",
              "      <th>4673</th>\n",
              "      <td>-0.847567</td>\n",
              "      <td>-0.048884</td>\n",
              "      <td>-0.327504</td>\n",
              "      <td>-0.239632</td>\n",
              "      <td>0.722864</td>\n",
              "      <td>-1.016775</td>\n",
              "      <td>0.161300</td>\n",
              "      <td>1.078366</td>\n",
              "      <td>2.616572</td>\n",
              "      <td>-0.068333</td>\n",
              "      <td>-1.148952</td>\n",
              "      <td>-0.438388</td>\n",
              "      <td>-0.399645</td>\n",
              "      <td>-0.664047</td>\n",
              "      <td>2.177515</td>\n",
              "      <td>-0.760111</td>\n",
              "      <td>-0.426032</td>\n",
              "    </tr>\n",
              "    <tr>\n",
              "      <th>3232</th>\n",
              "      <td>-0.847567</td>\n",
              "      <td>1.543042</td>\n",
              "      <td>-0.327504</td>\n",
              "      <td>-0.239632</td>\n",
              "      <td>0.722864</td>\n",
              "      <td>0.983502</td>\n",
              "      <td>-0.604493</td>\n",
              "      <td>0.153599</td>\n",
              "      <td>-0.382179</td>\n",
              "      <td>-0.068333</td>\n",
              "      <td>0.870358</td>\n",
              "      <td>-0.438388</td>\n",
              "      <td>-0.399645</td>\n",
              "      <td>-0.664047</td>\n",
              "      <td>2.177515</td>\n",
              "      <td>-0.760111</td>\n",
              "      <td>-0.426032</td>\n",
              "    </tr>\n",
              "    <tr>\n",
              "      <th>3694</th>\n",
              "      <td>1.179848</td>\n",
              "      <td>-0.667966</td>\n",
              "      <td>-0.327504</td>\n",
              "      <td>-0.239632</td>\n",
              "      <td>-1.383386</td>\n",
              "      <td>0.983502</td>\n",
              "      <td>-0.715311</td>\n",
              "      <td>-0.458570</td>\n",
              "      <td>-0.382179</td>\n",
              "      <td>-0.068333</td>\n",
              "      <td>0.870358</td>\n",
              "      <td>-0.438388</td>\n",
              "      <td>-0.399645</td>\n",
              "      <td>-0.664047</td>\n",
              "      <td>-0.459239</td>\n",
              "      <td>-0.760111</td>\n",
              "      <td>2.347244</td>\n",
              "    </tr>\n",
              "    <tr>\n",
              "      <th>1070</th>\n",
              "      <td>-0.847567</td>\n",
              "      <td>1.675702</td>\n",
              "      <td>-0.327504</td>\n",
              "      <td>-0.239632</td>\n",
              "      <td>0.722864</td>\n",
              "      <td>-1.016775</td>\n",
              "      <td>3.105266</td>\n",
              "      <td>-1.018640</td>\n",
              "      <td>-0.382179</td>\n",
              "      <td>-0.068333</td>\n",
              "      <td>-1.148952</td>\n",
              "      <td>2.281083</td>\n",
              "      <td>-0.399645</td>\n",
              "      <td>-0.664047</td>\n",
              "      <td>-0.459239</td>\n",
              "      <td>1.315597</td>\n",
              "      <td>-0.426032</td>\n",
              "    </tr>\n",
              "    <tr>\n",
              "      <th>4163</th>\n",
              "      <td>-0.847567</td>\n",
              "      <td>0.393318</td>\n",
              "      <td>-0.327504</td>\n",
              "      <td>-0.239632</td>\n",
              "      <td>0.722864</td>\n",
              "      <td>-1.016775</td>\n",
              "      <td>-0.190360</td>\n",
              "      <td>-0.119923</td>\n",
              "      <td>-0.382179</td>\n",
              "      <td>-0.068333</td>\n",
              "      <td>0.870358</td>\n",
              "      <td>-0.438388</td>\n",
              "      <td>-0.399645</td>\n",
              "      <td>1.505917</td>\n",
              "      <td>-0.459239</td>\n",
              "      <td>-0.760111</td>\n",
              "      <td>-0.426032</td>\n",
              "    </tr>\n",
              "    <tr>\n",
              "      <th>...</th>\n",
              "      <td>...</td>\n",
              "      <td>...</td>\n",
              "      <td>...</td>\n",
              "      <td>...</td>\n",
              "      <td>...</td>\n",
              "      <td>...</td>\n",
              "      <td>...</td>\n",
              "      <td>...</td>\n",
              "      <td>...</td>\n",
              "      <td>...</td>\n",
              "      <td>...</td>\n",
              "      <td>...</td>\n",
              "      <td>...</td>\n",
              "      <td>...</td>\n",
              "      <td>...</td>\n",
              "      <td>...</td>\n",
              "      <td>...</td>\n",
              "    </tr>\n",
              "    <tr>\n",
              "      <th>2030</th>\n",
              "      <td>1.179848</td>\n",
              "      <td>-1.884904</td>\n",
              "      <td>-0.327504</td>\n",
              "      <td>-0.239632</td>\n",
              "      <td>-1.383386</td>\n",
              "      <td>0.983502</td>\n",
              "      <td>-0.720830</td>\n",
              "      <td>-0.003580</td>\n",
              "      <td>-0.382179</td>\n",
              "      <td>-0.068333</td>\n",
              "      <td>-1.148952</td>\n",
              "      <td>-0.438388</td>\n",
              "      <td>2.502219</td>\n",
              "      <td>1.505917</td>\n",
              "      <td>-0.459239</td>\n",
              "      <td>-0.760111</td>\n",
              "      <td>-0.426032</td>\n",
              "    </tr>\n",
              "    <tr>\n",
              "      <th>4555</th>\n",
              "      <td>-0.847567</td>\n",
              "      <td>-0.933287</td>\n",
              "      <td>-0.327504</td>\n",
              "      <td>-0.239632</td>\n",
              "      <td>-1.383386</td>\n",
              "      <td>-1.016775</td>\n",
              "      <td>-0.081087</td>\n",
              "      <td>1.495162</td>\n",
              "      <td>-0.382179</td>\n",
              "      <td>-0.068333</td>\n",
              "      <td>0.870358</td>\n",
              "      <td>-0.438388</td>\n",
              "      <td>-0.399645</td>\n",
              "      <td>-0.664047</td>\n",
              "      <td>-0.459239</td>\n",
              "      <td>-0.760111</td>\n",
              "      <td>2.347244</td>\n",
              "    </tr>\n",
              "    <tr>\n",
              "      <th>1056</th>\n",
              "      <td>1.179848</td>\n",
              "      <td>-1.508149</td>\n",
              "      <td>-0.327504</td>\n",
              "      <td>-0.239632</td>\n",
              "      <td>-1.383386</td>\n",
              "      <td>0.983502</td>\n",
              "      <td>-0.172920</td>\n",
              "      <td>-0.732092</td>\n",
              "      <td>-0.382179</td>\n",
              "      <td>-0.068333</td>\n",
              "      <td>-1.148952</td>\n",
              "      <td>-0.438388</td>\n",
              "      <td>2.502219</td>\n",
              "      <td>1.505917</td>\n",
              "      <td>-0.459239</td>\n",
              "      <td>-0.760111</td>\n",
              "      <td>-0.426032</td>\n",
              "    </tr>\n",
              "    <tr>\n",
              "      <th>854</th>\n",
              "      <td>-0.847567</td>\n",
              "      <td>0.127997</td>\n",
              "      <td>-0.327504</td>\n",
              "      <td>-0.239632</td>\n",
              "      <td>0.722864</td>\n",
              "      <td>0.983502</td>\n",
              "      <td>-0.243782</td>\n",
              "      <td>-0.523694</td>\n",
              "      <td>-0.382179</td>\n",
              "      <td>-0.068333</td>\n",
              "      <td>-1.148952</td>\n",
              "      <td>2.281083</td>\n",
              "      <td>-0.399645</td>\n",
              "      <td>-0.664047</td>\n",
              "      <td>-0.459239</td>\n",
              "      <td>1.315597</td>\n",
              "      <td>-0.426032</td>\n",
              "    </tr>\n",
              "    <tr>\n",
              "      <th>4288</th>\n",
              "      <td>-0.847567</td>\n",
              "      <td>-0.004663</td>\n",
              "      <td>3.053397</td>\n",
              "      <td>-0.239632</td>\n",
              "      <td>0.722864</td>\n",
              "      <td>-1.016775</td>\n",
              "      <td>-1.075801</td>\n",
              "      <td>2.133381</td>\n",
              "      <td>2.616572</td>\n",
              "      <td>-0.068333</td>\n",
              "      <td>-1.148952</td>\n",
              "      <td>-0.438388</td>\n",
              "      <td>-0.399645</td>\n",
              "      <td>1.505917</td>\n",
              "      <td>-0.459239</td>\n",
              "      <td>-0.760111</td>\n",
              "      <td>-0.426032</td>\n",
              "    </tr>\n",
              "  </tbody>\n",
              "</table>\n",
              "<p>1022 rows × 17 columns</p>\n",
              "</div>\n",
              "      <button class=\"colab-df-convert\" onclick=\"convertToInteractive('df-105e8c1b-5275-4f68-a0c8-2ffd5eb5636d')\"\n",
              "              title=\"Convert this dataframe to an interactive table.\"\n",
              "              style=\"display:none;\">\n",
              "        \n",
              "  <svg xmlns=\"http://www.w3.org/2000/svg\" height=\"24px\"viewBox=\"0 0 24 24\"\n",
              "       width=\"24px\">\n",
              "    <path d=\"M0 0h24v24H0V0z\" fill=\"none\"/>\n",
              "    <path d=\"M18.56 5.44l.94 2.06.94-2.06 2.06-.94-2.06-.94-.94-2.06-.94 2.06-2.06.94zm-11 1L8.5 8.5l.94-2.06 2.06-.94-2.06-.94L8.5 2.5l-.94 2.06-2.06.94zm10 10l.94 2.06.94-2.06 2.06-.94-2.06-.94-.94-2.06-.94 2.06-2.06.94z\"/><path d=\"M17.41 7.96l-1.37-1.37c-.4-.4-.92-.59-1.43-.59-.52 0-1.04.2-1.43.59L10.3 9.45l-7.72 7.72c-.78.78-.78 2.05 0 2.83L4 21.41c.39.39.9.59 1.41.59.51 0 1.02-.2 1.41-.59l7.78-7.78 2.81-2.81c.8-.78.8-2.07 0-2.86zM5.41 20L4 18.59l7.72-7.72 1.47 1.35L5.41 20z\"/>\n",
              "  </svg>\n",
              "      </button>\n",
              "      \n",
              "  <style>\n",
              "    .colab-df-container {\n",
              "      display:flex;\n",
              "      flex-wrap:wrap;\n",
              "      gap: 12px;\n",
              "    }\n",
              "\n",
              "    .colab-df-convert {\n",
              "      background-color: #E8F0FE;\n",
              "      border: none;\n",
              "      border-radius: 50%;\n",
              "      cursor: pointer;\n",
              "      display: none;\n",
              "      fill: #1967D2;\n",
              "      height: 32px;\n",
              "      padding: 0 0 0 0;\n",
              "      width: 32px;\n",
              "    }\n",
              "\n",
              "    .colab-df-convert:hover {\n",
              "      background-color: #E2EBFA;\n",
              "      box-shadow: 0px 1px 2px rgba(60, 64, 67, 0.3), 0px 1px 3px 1px rgba(60, 64, 67, 0.15);\n",
              "      fill: #174EA6;\n",
              "    }\n",
              "\n",
              "    [theme=dark] .colab-df-convert {\n",
              "      background-color: #3B4455;\n",
              "      fill: #D2E3FC;\n",
              "    }\n",
              "\n",
              "    [theme=dark] .colab-df-convert:hover {\n",
              "      background-color: #434B5C;\n",
              "      box-shadow: 0px 1px 3px 1px rgba(0, 0, 0, 0.15);\n",
              "      filter: drop-shadow(0px 1px 2px rgba(0, 0, 0, 0.3));\n",
              "      fill: #FFFFFF;\n",
              "    }\n",
              "  </style>\n",
              "\n",
              "      <script>\n",
              "        const buttonEl =\n",
              "          document.querySelector('#df-105e8c1b-5275-4f68-a0c8-2ffd5eb5636d button.colab-df-convert');\n",
              "        buttonEl.style.display =\n",
              "          google.colab.kernel.accessAllowed ? 'block' : 'none';\n",
              "\n",
              "        async function convertToInteractive(key) {\n",
              "          const element = document.querySelector('#df-105e8c1b-5275-4f68-a0c8-2ffd5eb5636d');\n",
              "          const dataTable =\n",
              "            await google.colab.kernel.invokeFunction('convertToInteractive',\n",
              "                                                     [key], {});\n",
              "          if (!dataTable) return;\n",
              "\n",
              "          const docLinkHtml = 'Like what you see? Visit the ' +\n",
              "            '<a target=\"_blank\" href=https://colab.research.google.com/notebooks/data_table.ipynb>data table notebook</a>'\n",
              "            + ' to learn more about interactive tables.';\n",
              "          element.innerHTML = '';\n",
              "          dataTable['output_type'] = 'display_data';\n",
              "          await google.colab.output.renderOutput(dataTable, element);\n",
              "          const docLink = document.createElement('div');\n",
              "          docLink.innerHTML = docLinkHtml;\n",
              "          element.appendChild(docLink);\n",
              "        }\n",
              "      </script>\n",
              "    </div>\n",
              "  </div>\n",
              "  "
            ]
          },
          "metadata": {},
          "execution_count": 23
        }
      ]
    },
    {
      "cell_type": "code",
      "source": [
        "Y_test"
      ],
      "metadata": {
        "id": "eVOcY3wx613F",
        "colab": {
          "base_uri": "https://localhost:8080/"
        },
        "outputId": "b154f819-226b-48db-9b64-8c73d7c95660"
      },
      "execution_count": 24,
      "outputs": [
        {
          "output_type": "execute_result",
          "data": {
            "text/plain": [
              "4673    0\n",
              "3232    0\n",
              "3694    0\n",
              "1070    0\n",
              "4163    0\n",
              "       ..\n",
              "2030    0\n",
              "4555    0\n",
              "1056    0\n",
              "854     0\n",
              "4288    0\n",
              "Name: stroke, Length: 1022, dtype: int64"
            ]
          },
          "metadata": {},
          "execution_count": 24
        }
      ]
    },
    {
      "cell_type": "markdown",
      "source": [
        "#Training"
      ],
      "metadata": {
        "id": "60lSI5xWFKOM"
      }
    },
    {
      "cell_type": "markdown",
      "source": [
        "#Decision Tree"
      ],
      "metadata": {
        "id": "nV3TY_oZ_sQH"
      }
    },
    {
      "cell_type": "code",
      "source": [
        "dt=DecisionTreeClassifier()\n",
        "dt.fit(X_train,Y_train)\n",
        "Y_pred=dt.predict(X_test)\n",
        "ac_dt=accuracy_score(Y_test,Y_pred)*100\n",
        "f1_dt=f1_score(Y_test, Y_pred)\n",
        "print(\n",
        "       \" Accuracy: {:.2f}%\\n F1-Score: {:.3f}\"\\\n",
        "        .format(ac_dt, f1_dt)\n",
        "    )"
      ],
      "metadata": {
        "id": "zGl0V1vmDmF1",
        "colab": {
          "base_uri": "https://localhost:8080/"
        },
        "outputId": "169744ba-5201-46cd-f050-456d0bd64331"
      },
      "execution_count": 25,
      "outputs": [
        {
          "output_type": "stream",
          "name": "stdout",
          "text": [
            " Accuracy: 90.80%\n",
            " F1-Score: 0.175\n"
          ]
        }
      ]
    },
    {
      "cell_type": "markdown",
      "source": [
        "#Regression"
      ],
      "metadata": {
        "id": "Y08um8sirFRE"
      }
    },
    {
      "cell_type": "code",
      "source": [
        "lr=LogisticRegression()\n",
        "lr.fit(X_train,Y_train)\n",
        "Y_pred=lr.predict(X_test)\n",
        "ac_lr=accuracy_score(Y_test,Y_pred)*100\n",
        "f1_lr=f1_score(Y_test, Y_pred)\n",
        "print(\n",
        "       \" Accuracy: {:.2f}%\\n F1-Score: {:.3f}\"\\\n",
        "        .format(ac_lr, f1_lr)\n",
        "    )\n"
      ],
      "metadata": {
        "id": "5HuyQl_ODmVd",
        "colab": {
          "base_uri": "https://localhost:8080/"
        },
        "outputId": "e7392a8a-ff78-4f0a-a475-2a610e5f1e3e"
      },
      "execution_count": 26,
      "outputs": [
        {
          "output_type": "stream",
          "name": "stdout",
          "text": [
            " Accuracy: 94.03%\n",
            " F1-Score: 0.000\n"
          ]
        }
      ]
    },
    {
      "cell_type": "markdown",
      "source": [
        "#KNN"
      ],
      "metadata": {
        "id": "sUnLtuDLDukU"
      }
    },
    {
      "cell_type": "code",
      "source": [
        "knn=KNeighborsClassifier()\n",
        "knn.fit(X_train,Y_train)\n",
        "Y_pred=knn.predict(X_test)\n",
        "ac_knn=accuracy_score(Y_test,Y_pred)*100\n",
        "f1_knn=f1_score(Y_test, Y_pred)\n",
        "print(\n",
        "       \" Accuracy: {:.2f}%\\n F1-Score: {:.3f}\"\\\n",
        "        .format(ac_knn, f1_knn)\n",
        "    )"
      ],
      "metadata": {
        "id": "qTcpa6D8ED1g",
        "colab": {
          "base_uri": "https://localhost:8080/"
        },
        "outputId": "f5909574-9e75-4d35-d518-194fbe7854fa"
      },
      "execution_count": 27,
      "outputs": [
        {
          "output_type": "stream",
          "name": "stdout",
          "text": [
            " Accuracy: 94.03%\n",
            " F1-Score: 0.062\n"
          ]
        }
      ]
    },
    {
      "cell_type": "markdown",
      "source": [
        "#Random Forest"
      ],
      "metadata": {
        "id": "veY4bFkFE6CW"
      }
    },
    {
      "cell_type": "code",
      "source": [
        "rf=RandomForestClassifier()\n",
        "rf.fit(X_train,Y_train)\n",
        "Y_pred=rf.predict(X_test)\n",
        "ac_rf=accuracy_score(Y_test,Y_pred)*100\n",
        "f1_rf=f1_score(Y_test, Y_pred)\n",
        "print(\n",
        "       \" Accuracy: {:.2f}%\\n F1-Score: {:.3f}\"\\\n",
        "        .format(ac_rf, f1_rf)\n",
        "    )"
      ],
      "metadata": {
        "id": "KPq8WAgSE9JH",
        "colab": {
          "base_uri": "https://localhost:8080/"
        },
        "outputId": "2eed4a6f-86d0-4855-de25-914607af1c0d"
      },
      "execution_count": 28,
      "outputs": [
        {
          "output_type": "stream",
          "name": "stdout",
          "text": [
            " Accuracy: 93.84%\n",
            " F1-Score: 0.000\n"
          ]
        }
      ]
    },
    {
      "cell_type": "markdown",
      "source": [
        "#SVM"
      ],
      "metadata": {
        "id": "-PLv7oNtWHEk"
      }
    },
    {
      "cell_type": "code",
      "source": [
        "svc=SVC()\n",
        "svc.fit(X_train,Y_train)\n",
        "Y_pred=svc.predict(X_test)\n",
        "ac_svc=accuracy_score(Y_test,Y_pred)*100\n",
        "f1_svc=f1_score(Y_test, Y_pred)\n",
        "print(\n",
        "       \" Accuracy: {:.2f}%\\n F1-Score: {:.3f}\"\\\n",
        "        .format(ac_svc, f1_svc)\n",
        "    )"
      ],
      "metadata": {
        "id": "0Piv32ovUFQ6",
        "colab": {
          "base_uri": "https://localhost:8080/"
        },
        "outputId": "25e1c18b-10ed-4359-eb1e-feea40d7f264"
      },
      "execution_count": 29,
      "outputs": [
        {
          "output_type": "stream",
          "name": "stdout",
          "text": [
            " Accuracy: 94.13%\n",
            " F1-Score: 0.000\n"
          ]
        }
      ]
    },
    {
      "cell_type": "code",
      "source": [
        "Linsvc=SVC()\n",
        "Linsvc.fit(X_train,Y_train)\n",
        "Y_pred=Linsvc.predict(X_test)\n",
        "ac_Linsvc=accuracy_score(Y_test,Y_pred)*100\n",
        "f1_Linsvc=f1_score(Y_test, Y_pred)\n",
        "print(\n",
        "       \" Accuracy: {:.2f}%\\n F1-Score: {:.3f}\"\\\n",
        "        .format(ac_Linsvc, f1_Linsvc)\n",
        "    )"
      ],
      "metadata": {
        "id": "-r1nKeabUFVH",
        "colab": {
          "base_uri": "https://localhost:8080/"
        },
        "outputId": "a916d159-afcf-46ab-c713-82a07eacd91a"
      },
      "execution_count": 30,
      "outputs": [
        {
          "output_type": "stream",
          "name": "stdout",
          "text": [
            " Accuracy: 94.13%\n",
            " F1-Score: 0.000\n"
          ]
        }
      ]
    },
    {
      "cell_type": "code",
      "source": [
        "mlp=MLPClassifier()\n",
        "mlp.fit(X_train,Y_train)\n",
        "Y_pred=mlp.predict(X_test)\n",
        "ac_mlp=accuracy_score(Y_test,Y_pred)*100\n",
        "f1_mlp=f1_score(Y_test, Y_pred)\n",
        "print(\n",
        "       \" Accuracy: {:.2f}%\\n F1-Score: {:.3f}\"\\\n",
        "        .format(ac_mlp, f1_mlp)\n",
        "    )"
      ],
      "metadata": {
        "id": "Hr4tZ1Q43ZAL",
        "colab": {
          "base_uri": "https://localhost:8080/"
        },
        "outputId": "f5b24940-0de2-4147-f71e-a69c9122e43c"
      },
      "execution_count": 31,
      "outputs": [
        {
          "output_type": "stream",
          "name": "stdout",
          "text": [
            " Accuracy: 93.74%\n",
            " F1-Score: 0.059\n"
          ]
        },
        {
          "output_type": "stream",
          "name": "stderr",
          "text": [
            "/usr/local/lib/python3.7/dist-packages/sklearn/neural_network/_multilayer_perceptron.py:696: ConvergenceWarning: Stochastic Optimizer: Maximum iterations (200) reached and the optimization hasn't converged yet.\n",
            "  ConvergenceWarning,\n"
          ]
        }
      ]
    },
    {
      "cell_type": "code",
      "source": [
        "plt.rcParams['figure.figsize'] = (10, 5)\n",
        "plt.bar(['Decision Tree','Logistic','KNN','Random Forest','SVM',\"LinearSVM\",\"Neural Network\"],[ac_dt,ac_lr,ac_knn,ac_rf,ac_svc,ac_Linsvc,ac_mlp])\n",
        "plt.xlabel(\"Accuracy before Oversampling \")\n"
      ],
      "metadata": {
        "id": "eU_SuN4zYsDz",
        "colab": {
          "base_uri": "https://localhost:8080/",
          "height": 351
        },
        "outputId": "56885e22-0c56-44ce-b279-33658fe798b7"
      },
      "execution_count": 32,
      "outputs": [
        {
          "output_type": "execute_result",
          "data": {
            "text/plain": [
              "Text(0.5, 0, 'Accuracy before Oversampling ')"
            ]
          },
          "metadata": {},
          "execution_count": 32
        },
        {
          "output_type": "display_data",
          "data": {
            "text/plain": [
              "<Figure size 720x360 with 1 Axes>"
            ],
            "image/png": "[encoded data removed]"
          },
          "metadata": {
            "needs_background": "light"
          }
        }
      ]
    },
    {
      "cell_type": "code",
      "source": [
        "plt.rcParams['figure.figsize'] = (10, 5)\n",
        "plt.bar(['Decision Tree','Logistic','KNN','Random Forest','SVM',\"LinearSVM\",\"Neural Network\"],[f1_dt,f1_lr,f1_knn,f1_rf,f1_svc,f1_Linsvc,f1_mlp])\n",
        "plt.xlabel(\"F1-Score before Oversampling \")"
      ],
      "metadata": {
        "id": "eLMTZLYnGUlC",
        "colab": {
          "base_uri": "https://localhost:8080/",
          "height": 351
        },
        "outputId": "cbbcf729-e93c-4d1e-dfd9-b23263190f7f"
      },
      "execution_count": 33,
      "outputs": [
        {
          "output_type": "execute_result",
          "data": {
            "text/plain": [
              "Text(0.5, 0, 'F1-Score before Oversampling ')"
            ]
          },
          "metadata": {},
          "execution_count": 33
        },
        {
          "output_type": "display_data",
          "data": {
            "text/plain": [
              "<Figure size 720x360 with 1 Axes>"
            ],
            "image/png": "[encoded data removed]"
          },
          "metadata": {
            "needs_background": "light"
          }
        }
      ]
    },
    {
      "cell_type": "markdown",
      "source": [
        ""
      ],
      "metadata": {
        "id": "SXncyCqBZwYG"
      }
    },
    {
      "cell_type": "markdown",
      "source": [
        "#Handle Imbalance Class with Oversampling"
      ],
      "metadata": {
        "id": "7Zpzj_4zZwgZ"
      }
    },
    {
      "cell_type": "code",
      "source": [
        "oversampled_data = pd.concat([X_train, Y_train], axis=1).copy()\n",
        "\n",
        "num_samples = Y_train.value_counts()[0] - Y_train.value_counts()[1]\n",
        "new_samples = oversampled_data.query(\"stroke == 1\").sample(num_samples, replace=True, random_state=1)\n",
        "\n",
        "oversampled_data = pd.concat([oversampled_data, new_samples], axis=0).sample(frac=1.0, random_state=1).reset_index(drop=True)\n",
        "\n",
        "Y_train_oversampled = oversampled_data['stroke']\n",
        "X_train_oversampled = oversampled_data.drop('stroke', axis=1)"
      ],
      "metadata": {
        "id": "5_WKZoG_UFvM"
      },
      "execution_count": 34,
      "outputs": []
    },
    {
      "cell_type": "code",
      "source": [
        "Y_train_oversampled.value_counts()\n"
      ],
      "metadata": {
        "id": "O51gdR1vkPxi",
        "colab": {
          "base_uri": "https://localhost:8080/"
        },
        "outputId": "c0bc8020-3b80-410f-9581-66d452ae6493"
      },
      "execution_count": 35,
      "outputs": [
        {
          "output_type": "execute_result",
          "data": {
            "text/plain": [
              "1    3899\n",
              "0    3899\n",
              "Name: stroke, dtype: int64"
            ]
          },
          "metadata": {},
          "execution_count": 35
        }
      ]
    },
    {
      "cell_type": "markdown",
      "source": [
        "#Decision Tree"
      ],
      "metadata": {
        "id": "mgnbRwxsdQyM"
      }
    },
    {
      "cell_type": "code",
      "source": [
        "dt_oversample=DecisionTreeClassifier()\n",
        "dt_oversample.fit(X_train_oversampled,Y_train_oversampled)\n",
        "Y_pred=dt_oversample.predict(X_test)\n",
        "ac_dt_oversample=accuracy_score(Y_test,Y_pred)*100\n",
        "f1_dt_oversample=f1_score(Y_test, Y_pred)\n",
        "print(\n",
        "       \" Accuracy: {:.2f}%\\n F1-Score: {:.3f}\"\\\n",
        "        .format(ac_dt_oversample, f1_dt_oversample)\n",
        "    )"
      ],
      "metadata": {
        "id": "7_YFYjHJUIrw",
        "colab": {
          "base_uri": "https://localhost:8080/"
        },
        "outputId": "82207157-8a71-4b9f-c06a-5d5254ce9ebe"
      },
      "execution_count": 36,
      "outputs": [
        {
          "output_type": "stream",
          "name": "stdout",
          "text": [
            " Accuracy: 90.90%\n",
            " F1-Score: 0.162\n"
          ]
        }
      ]
    },
    {
      "cell_type": "markdown",
      "source": [
        "#Regression"
      ],
      "metadata": {
        "id": "glOmVdCudXDZ"
      }
    },
    {
      "cell_type": "code",
      "source": [
        "lr_oversample=LogisticRegression()\n",
        "lr_oversample.fit(X_train_oversampled,Y_train_oversampled)\n",
        "Y_pred=lr_oversample.predict(X_test)\n",
        "ac_lr_oversample=accuracy_score(Y_test,Y_pred)*100\n",
        "f1_lr_oversample=f1_score(Y_test, Y_pred)\n",
        "print(\n",
        "       \" Accuracy: {:.2f}%\\n F1-Score: {:.3f}\"\\\n",
        "        .format(ac_lr_oversample, f1_lr_oversample)\n",
        "    )"
      ],
      "metadata": {
        "id": "TYzm0gmQdXag",
        "colab": {
          "base_uri": "https://localhost:8080/"
        },
        "outputId": "45d61b42-0e3a-4e38-e838-0e9181080415"
      },
      "execution_count": 37,
      "outputs": [
        {
          "output_type": "stream",
          "name": "stdout",
          "text": [
            " Accuracy: 74.07%\n",
            " F1-Score: 0.286\n"
          ]
        }
      ]
    },
    {
      "cell_type": "markdown",
      "source": [
        "#KNN"
      ],
      "metadata": {
        "id": "oK6ATeALeOtc"
      }
    },
    {
      "cell_type": "code",
      "source": [
        "knn_oversample=KNeighborsClassifier()\n",
        "knn_oversample.fit(X_train_oversampled,Y_train_oversampled)\n",
        "Y_pred=knn_oversample.predict(X_test)\n",
        "ac_knn_oversample=accuracy_score(Y_test,Y_pred)*100\n",
        "f1_knn_oversample=f1_score(Y_test, Y_pred)\n",
        "print(\n",
        "       \" Accuracy: {:.2f}%\\n F1-Score: {:.3f}\"\\\n",
        "        .format(ac_knn_oversample, f1_knn_oversample)\n",
        "    )"
      ],
      "metadata": {
        "id": "NhRWsBmEePCp",
        "colab": {
          "base_uri": "https://localhost:8080/"
        },
        "outputId": "c18b22bd-a18f-4f2e-ef16-284d2d8e3455"
      },
      "execution_count": 38,
      "outputs": [
        {
          "output_type": "stream",
          "name": "stdout",
          "text": [
            " Accuracy: 85.13%\n",
            " F1-Score: 0.116\n"
          ]
        }
      ]
    },
    {
      "cell_type": "markdown",
      "source": [
        "#Random Forest"
      ],
      "metadata": {
        "id": "V6LKcA6IengD"
      }
    },
    {
      "cell_type": "code",
      "source": [
        "rf_oversample=RandomForestClassifier()\n",
        "rf_oversample.fit(X_train_oversampled,Y_train_oversampled)\n",
        "Y_pred=rf_oversample.predict(X_test)\n",
        "ac_rf_oversample=accuracy_score(Y_test,Y_pred)*100\n",
        "f1_rf_oversample=f1_score(Y_test, Y_pred)\n",
        "prec_rf_oversample=precision_score(Y_test, Y_pred)\n",
        "recall_rf_oversample=recall_score(Y_test, Y_pred)\n",
        "print(\n",
        "       \" Accuracy: {:.2f}%\\n F1-Score: {:.3f}\"\\\n",
        "        .format(ac_rf_oversample, f1_rf_oversample,prec_rf_oversample,recall_rf_oversample)\n",
        "    )"
      ],
      "metadata": {
        "id": "hOLlappWeq6b",
        "colab": {
          "base_uri": "https://localhost:8080/"
        },
        "outputId": "4bac83f7-7bf4-405a-8be4-ea69ce9aab84"
      },
      "execution_count": 39,
      "outputs": [
        {
          "output_type": "stream",
          "name": "stdout",
          "text": [
            " Accuracy: 93.05%\n",
            " F1-Score: 0.027\n"
          ]
        }
      ]
    },
    {
      "cell_type": "markdown",
      "source": [
        "#SVM"
      ],
      "metadata": {
        "id": "lcxB7cHve2i4"
      }
    },
    {
      "cell_type": "code",
      "source": [
        "svc_oversample=SVC()\n",
        "svc_oversample.fit(X_train_oversampled,Y_train_oversampled)\n",
        "Y_pred=svc_oversample.predict(X_test)\n",
        "ac_svc_oversample=accuracy_score(Y_test,Y_pred)*100\n",
        "f1_svc_oversample=f1_score(Y_test, Y_pred)\n",
        "print(\n",
        "       \" Accuracy: {:.2f}%\\n F1-Score: {:.3f}\"\\\n",
        "        .format(ac_svc_oversample, f1_svc_oversample)\n",
        "    )"
      ],
      "metadata": {
        "id": "-JA28oK5e4gU",
        "colab": {
          "base_uri": "https://localhost:8080/"
        },
        "outputId": "37b40d27-7845-41c2-9e4a-3209137d5d9d"
      },
      "execution_count": 40,
      "outputs": [
        {
          "output_type": "stream",
          "name": "stdout",
          "text": [
            " Accuracy: 77.01%\n",
            " F1-Score: 0.235\n"
          ]
        }
      ]
    },
    {
      "cell_type": "markdown",
      "source": [
        "#LinearSVC"
      ],
      "metadata": {
        "id": "nDHFwv16fHnD"
      }
    },
    {
      "cell_type": "code",
      "source": [
        "Linsvc_oversample=LinearSVC()\n",
        "Linsvc_oversample.fit(X_train_oversampled,Y_train_oversampled)\n",
        "Y_pred=Linsvc_oversample.predict(X_test)\n",
        "ac_Linsvc_oversample=accuracy_score(Y_test,Y_pred)*100\n",
        "f1_Linsvc_oversample=f1_score(Y_test, Y_pred)\n",
        "print(\n",
        "       \" Accuracy: {:.2f}%\\n F1-Score: {:.3f}\"\\\n",
        "        .format(ac_Linsvc_oversample, f1_Linsvc_oversample)\n",
        "    )"
      ],
      "metadata": {
        "id": "KcbJ-CMCfKMp",
        "colab": {
          "base_uri": "https://localhost:8080/"
        },
        "outputId": "9d6d1875-514e-4f36-db3d-f1436be8a738"
      },
      "execution_count": 41,
      "outputs": [
        {
          "output_type": "stream",
          "name": "stdout",
          "text": [
            " Accuracy: 73.58%\n",
            " F1-Score: 0.278\n"
          ]
        },
        {
          "output_type": "stream",
          "name": "stderr",
          "text": [
            "/usr/local/lib/python3.7/dist-packages/sklearn/svm/_base.py:1208: ConvergenceWarning: Liblinear failed to converge, increase the number of iterations.\n",
            "  ConvergenceWarning,\n"
          ]
        }
      ]
    },
    {
      "cell_type": "code",
      "source": [
        "mlp_oversample=MLPClassifier()\n",
        "mlp_oversample.fit(X_train_oversampled,Y_train_oversampled)\n",
        "Y_pred=mlp_oversample.predict(X_test)\n",
        "ac_mlp_oversample=accuracy_score(Y_test,Y_pred)*100\n",
        "f1_mlp_oversample=f1_score(Y_test, Y_pred)\n",
        "print(\n",
        "       \" Accuracy: {:.2f}%\\n F1-Score: {:.3f}\"\\\n",
        "        .format(ac_mlp_oversample, f1_mlp_oversample)\n",
        "    )"
      ],
      "metadata": {
        "id": "QKyqI9tj7oMP",
        "colab": {
          "base_uri": "https://localhost:8080/"
        },
        "outputId": "41ebdc80-7253-40d9-f7f5-43a0a539de95"
      },
      "execution_count": 42,
      "outputs": [
        {
          "output_type": "stream",
          "name": "stdout",
          "text": [
            " Accuracy: 83.37%\n",
            " F1-Score: 0.183\n"
          ]
        },
        {
          "output_type": "stream",
          "name": "stderr",
          "text": [
            "/usr/local/lib/python3.7/dist-packages/sklearn/neural_network/_multilayer_perceptron.py:696: ConvergenceWarning: Stochastic Optimizer: Maximum iterations (200) reached and the optimization hasn't converged yet.\n",
            "  ConvergenceWarning,\n"
          ]
        }
      ]
    },
    {
      "cell_type": "code",
      "source": [
        "\n",
        "plt.rcParams['figure.figsize'] = (10, 5)\n",
        "plt.bar(['Decision Tree','Logistic','KNN','Random Forest','SVM',\"LinearSVM\",\"Neural Network\"],[ac_dt_oversample,ac_lr_oversample,ac_knn_oversample,ac_rf_oversample,ac_svc_oversample,ac_Linsvc_oversample,ac_mlp_oversample])\n",
        "plt.xlabel(\"Accuracy after Oversampling\")"
      ],
      "metadata": {
        "id": "HqQYZdJbjxP8",
        "colab": {
          "base_uri": "https://localhost:8080/",
          "height": 351
        },
        "outputId": "633f2767-0144-4be9-b05d-bd0edf687b49"
      },
      "execution_count": 43,
      "outputs": [
        {
          "output_type": "execute_result",
          "data": {
            "text/plain": [
              "Text(0.5, 0, 'Accuracy after Oversampling')"
            ]
          },
          "metadata": {},
          "execution_count": 43
        },
        {
          "output_type": "display_data",
          "data": {
            "text/plain": [
              "<Figure size 720x360 with 1 Axes>"
            ],
            "image/png": "[encoded data removed]"
          },
          "metadata": {
            "needs_background": "light"
          }
        }
      ]
    },
    {
      "cell_type": "code",
      "source": [
        "plt.rcParams['figure.figsize'] = (10, 5)\n",
        "plt.bar(['Decision Tree','Logistic','KNN','Random Forest','SVM',\"LinearSVM\",\"Neural Network\"],[f1_dt_oversample,f1_lr_oversample,f1_knn_oversample,f1_rf_oversample,f1_svc_oversample,f1_Linsvc_oversample,f1_mlp_oversample])\n",
        "plt.xlabel(\"F1-Score after Oversampling\")"
      ],
      "metadata": {
        "id": "fzMVzDBbGsvG",
        "colab": {
          "base_uri": "https://localhost:8080/",
          "height": 355
        },
        "outputId": "a1a85d40-10ad-4ef6-bab7-ef4d47e80b09"
      },
      "execution_count": 44,
      "outputs": [
        {
          "output_type": "execute_result",
          "data": {
            "text/plain": [
              "Text(0.5, 0, 'F1-Score after Oversampling')"
            ]
          },
          "metadata": {},
          "execution_count": 44
        },
        {
          "output_type": "display_data",
          "data": {
            "text/plain": [
              "<Figure size 720x360 with 1 Axes>"
            ],
            "image/png": "[encoded data removed]"
          },
          "metadata": {
            "needs_background": "light"
          }
        }
      ]
    }
  ]
}